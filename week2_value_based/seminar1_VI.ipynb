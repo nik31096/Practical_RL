{
 "cells": [
  {
   "cell_type": "markdown",
   "metadata": {},
   "source": [
    "### Markov decision process\n",
    "\n",
    "This week's methods are all built to solve __M__arkov __D__ecision __P__rocesses. In the broadest sense, an MDP is defined by how it changes states and how rewards are computed.\n",
    "\n",
    "State transition is defined by $P(s' |s,a)$ - how likely are you to end at state $s'$ if you take action $a$ from state $s$. Now there's more than one way to define rewards, but we'll use $r(s,a,s')$ function for convenience.\n",
    "\n",
    "_This notebook is inspired by the awesome_ [CS294](https://github.com/berkeleydeeprlcourse/homework/tree/master/sp17_hw/hw2) _by Berkeley_"
   ]
  },
  {
   "cell_type": "markdown",
   "metadata": {},
   "source": [
    "For starters, let's define a simple MDP from this picture:\n",
    "<img src='https://upload.wikimedia.org/wikipedia/commons/thumb/a/ad/Markov_Decision_Process.svg/800px-Markov_Decision_Process.svg.png' width=300px>\n",
    "_img by MistWiz (Own work) [Public domain], via Wikimedia Commons_"
   ]
  },
  {
   "cell_type": "code",
   "execution_count": 2,
   "metadata": {
    "ExecuteTime": {
     "end_time": "2018-04-02T13:44:32.642838Z",
     "start_time": "2018-04-02T13:44:32.545142Z"
    }
   },
   "outputs": [
    {
     "name": "stdout",
     "output_type": "stream",
     "text": [
      "Graphviz available: True\n"
     ]
    }
   ],
   "source": [
    "transition_probs = {\n",
    "    's0': {\n",
    "        'a0': {'s0': 0.5, 's2': 0.5},\n",
    "        'a1': {'s2': 1}\n",
    "    },\n",
    "    's1': {\n",
    "        'a0': {'s0': 0.7, 's1': 0.1, 's2': 0.2},\n",
    "        'a1': {'s1': 0.95, 's2': 0.05}\n",
    "    },\n",
    "    's2': {\n",
    "        'a0': {'s0': 0.4, 's1': 0.6},\n",
    "        'a1': {'s0': 0.3, 's1': 0.3, 's2': 0.4}\n",
    "    }\n",
    "}\n",
    "rewards = {\n",
    "    's1': {'a0': {'s0': +5}},\n",
    "    's2': {'a1': {'s0': -1}}\n",
    "}\n",
    "\n",
    "from mdp import MDP\n",
    "from mdp import has_graphviz\n",
    "from IPython.display import display\n",
    "print(\"Graphviz available:\", has_graphviz)\n",
    "if has_graphviz:\n",
    "    from mdp import plot_graph, plot_graph_with_state_values, plot_graph_optimal_strategy_and_state_values\n",
    "\n",
    "mdp = MDP(transition_probs, rewards, initial_state='s0')"
   ]
  },
  {
   "cell_type": "markdown",
   "metadata": {},
   "source": [
    "We can now use MDP just as any other gym environment:"
   ]
  },
  {
   "cell_type": "code",
   "execution_count": 2,
   "metadata": {
    "ExecuteTime": {
     "end_time": "2018-04-02T13:44:34.203384Z",
     "start_time": "2018-04-02T13:44:34.199297Z"
    }
   },
   "outputs": [
    {
     "name": "stdout",
     "output_type": "stream",
     "text": [
      "initial state = s0\n",
      "next_state = s2, reward = 0.0, done = False\n"
     ]
    }
   ],
   "source": [
    "print('initial state =', mdp.reset())\n",
    "next_state, reward, done, info = mdp.step('a1')\n",
    "print('next_state = %s, reward = %s, done = %s' % (next_state, reward, done))"
   ]
  },
  {
   "cell_type": "markdown",
   "metadata": {},
   "source": [
    "but it also has other methods that you'll need for Value Iteration"
   ]
  },
  {
   "cell_type": "code",
   "execution_count": 3,
   "metadata": {
    "ExecuteTime": {
     "end_time": "2018-04-02T13:44:34.956122Z",
     "start_time": "2018-04-02T13:44:34.949856Z"
    }
   },
   "outputs": [
    {
     "name": "stdout",
     "output_type": "stream",
     "text": [
      "mdp.get_all_states = ('s0', 's1', 's2')\n",
      "mdp.get_possible_actions('s1') =  ('a0', 'a1')\n",
      "mdp.get_next_states('s1', 'a0') =  {'s0': 0.7, 's1': 0.1, 's2': 0.2}\n",
      "mdp.get_reward('s1', 'a0', 's0') =  5\n",
      "mdp.get_transition_prob('s1', 'a0', 's0') =  0.7\n"
     ]
    }
   ],
   "source": [
    "print(\"mdp.get_all_states =\", mdp.get_all_states())\n",
    "print(\"mdp.get_possible_actions('s1') = \", mdp.get_possible_actions('s1'))\n",
    "print(\"mdp.get_next_states('s1', 'a0') = \", mdp.get_next_states('s1', 'a0'))\n",
    "print(\"mdp.get_reward('s1', 'a0', 's0') = \", mdp.get_reward('s1', 'a0', 's0'))\n",
    "print(\"mdp.get_transition_prob('s1', 'a0', 's0') = \",\n",
    "      mdp.get_transition_prob('s1', 'a0', 's0'))"
   ]
  },
  {
   "cell_type": "markdown",
   "metadata": {},
   "source": [
    "### Optional: Visualizing MDPs\n",
    "\n",
    "You can also visualize any MDP with the drawing fuction donated by [neer201](https://github.com/neer201).\n",
    "\n",
    "You have to install graphviz for system and for python. For ubuntu just run:\n",
    "\n",
    "1. `sudo apt-get install graphviz`\n",
    "2. `pip install graphviz`\n",
    "3. restart the notebook\n",
    "\n",
    "__Note:__ Installing graphviz on some OS (esp. Windows) may be tricky. However, you can ignore this part alltogether and use the standart vizualization."
   ]
  },
  {
   "cell_type": "code",
   "execution_count": 4,
   "metadata": {
    "ExecuteTime": {
     "end_time": "2018-04-02T13:44:38.715883Z",
     "start_time": "2018-04-02T13:44:38.648684Z"
    }
   },
   "outputs": [
    {
     "data": {
      "image/svg+xml": [
       "<?xml version=\"1.0\" encoding=\"UTF-8\" standalone=\"no\"?>\n",
       "<!DOCTYPE svg PUBLIC \"-//W3C//DTD SVG 1.1//EN\"\n",
       " \"http://www.w3.org/Graphics/SVG/1.1/DTD/svg11.dtd\">\n",
       "<!-- Generated by graphviz version 2.38.0 (20140413.2041)\n",
       " -->\n",
       "<!-- Title: MDP Pages: 1 -->\n",
       "<svg width=\"720pt\" height=\"197pt\"\n",
       " viewBox=\"0.00 0.00 720.00 196.66\" xmlns=\"http://www.w3.org/2000/svg\" xmlns:xlink=\"http://www.w3.org/1999/xlink\">\n",
       "<g id=\"graph0\" class=\"graph\" transform=\"scale(0.704871 0.704871) rotate(0) translate(4 275)\">\n",
       "<title>MDP</title>\n",
       "<polygon fill=\"white\" stroke=\"none\" points=\"-4,4 -4,-275 1017.46,-275 1017.46,4 -4,4\"/>\n",
       "<!-- s0 -->\n",
       "<g id=\"node1\" class=\"node\"><title>s0</title>\n",
       "<ellipse fill=\"lightgreen\" stroke=\"lightgreen\" cx=\"40\" cy=\"-103\" rx=\"36\" ry=\"36\"/>\n",
       "<ellipse fill=\"none\" stroke=\"lightgreen\" cx=\"40\" cy=\"-103\" rx=\"40\" ry=\"40\"/>\n",
       "<text text-anchor=\"middle\" x=\"40\" y=\"-96.8\" font-family=\"Arial\" font-size=\"24.00\">s0</text>\n",
       "</g>\n",
       "<!-- s0&#45;a0 -->\n",
       "<g id=\"node2\" class=\"node\"><title>s0&#45;a0</title>\n",
       "<ellipse fill=\"lightpink\" stroke=\"lightpink\" cx=\"192.577\" cy=\"-147\" rx=\"27.6545\" ry=\"27.6545\"/>\n",
       "<text text-anchor=\"middle\" x=\"192.577\" y=\"-142\" font-family=\"Arial\" font-size=\"20.00\">a0</text>\n",
       "</g>\n",
       "<!-- s0&#45;&gt;s0&#45;a0 -->\n",
       "<g id=\"edge1\" class=\"edge\"><title>s0&#45;&gt;s0&#45;a0</title>\n",
       "<path fill=\"none\" stroke=\"red\" stroke-width=\"2\" d=\"M79.0735,-111.577C99.3931,-116.435 124.733,-122.944 147,-130 150.338,-131.058 153.79,-132.23 157.227,-133.45\"/>\n",
       "<polygon fill=\"red\" stroke=\"red\" stroke-width=\"2\" points=\"156.171,-136.791 166.764,-136.959 158.588,-130.221 156.171,-136.791\"/>\n",
       "</g>\n",
       "<!-- s0&#45;a1 -->\n",
       "<g id=\"node4\" class=\"node\"><title>s0&#45;a1</title>\n",
       "<ellipse fill=\"lightpink\" stroke=\"lightpink\" cx=\"192.577\" cy=\"-220\" rx=\"27.6545\" ry=\"27.6545\"/>\n",
       "<text text-anchor=\"middle\" x=\"192.577\" y=\"-215\" font-family=\"Arial\" font-size=\"20.00\">a1</text>\n",
       "</g>\n",
       "<!-- s0&#45;&gt;s0&#45;a1 -->\n",
       "<g id=\"edge4\" class=\"edge\"><title>s0&#45;&gt;s0&#45;a1</title>\n",
       "<path fill=\"none\" stroke=\"red\" stroke-width=\"2\" d=\"M66.9211,-132.667C76.2366,-142.537 87.136,-153.237 98,-162 117.05,-177.365 140.454,-191.87 159.091,-202.532\"/>\n",
       "<polygon fill=\"red\" stroke=\"red\" stroke-width=\"2\" points=\"157.386,-205.588 167.817,-207.443 160.82,-199.488 157.386,-205.588\"/>\n",
       "</g>\n",
       "<!-- s0&#45;a0&#45;&gt;s0 -->\n",
       "<g id=\"edge2\" class=\"edge\"><title>s0&#45;a0&#45;&gt;s0</title>\n",
       "<path fill=\"none\" stroke=\"blue\" stroke-dasharray=\"5,2\" d=\"M165.016,-142.698C146.094,-139.302 120.188,-133.974 98,-127 94.1908,-125.803 90.2855,-124.447 86.3924,-123.004\"/>\n",
       "<polygon fill=\"blue\" stroke=\"blue\" points=\"87.3907,-119.637 76.802,-119.277 84.8555,-126.161 87.3907,-119.637\"/>\n",
       "<text text-anchor=\"middle\" x=\"122.5\" y=\"-145.2\" font-family=\"Arial\" font-size=\"16.00\">p = 0.5</text>\n",
       "</g>\n",
       "<!-- s2 -->\n",
       "<g id=\"node3\" class=\"node\"><title>s2</title>\n",
       "<ellipse fill=\"lightgreen\" stroke=\"lightgreen\" cx=\"430.154\" cy=\"-159\" rx=\"36\" ry=\"36\"/>\n",
       "<ellipse fill=\"none\" stroke=\"lightgreen\" cx=\"430.154\" cy=\"-159\" rx=\"40\" ry=\"40\"/>\n",
       "<text text-anchor=\"middle\" x=\"430.154\" y=\"-152.8\" font-family=\"Arial\" font-size=\"24.00\">s2</text>\n",
       "</g>\n",
       "<!-- s0&#45;a0&#45;&gt;s2 -->\n",
       "<g id=\"edge3\" class=\"edge\"><title>s0&#45;a0&#45;&gt;s2</title>\n",
       "<path fill=\"none\" stroke=\"blue\" stroke-dasharray=\"5,2\" d=\"M220.143,-148.353C258.819,-150.323 331.305,-154.016 379.91,-156.492\"/>\n",
       "<polygon fill=\"blue\" stroke=\"blue\" points=\"380.036,-160.002 390.201,-157.016 380.392,-153.011 380.036,-160.002\"/>\n",
       "<text text-anchor=\"middle\" x=\"305.154\" y=\"-162.2\" font-family=\"Arial\" font-size=\"16.00\">p = 0.5</text>\n",
       "</g>\n",
       "<!-- s2&#45;a0 -->\n",
       "<g id=\"node8\" class=\"node\"><title>s2&#45;a0</title>\n",
       "<ellipse fill=\"lightpink\" stroke=\"lightpink\" cx=\"662.731\" cy=\"-129\" rx=\"27.6545\" ry=\"27.6545\"/>\n",
       "<text text-anchor=\"middle\" x=\"662.731\" y=\"-124\" font-family=\"Arial\" font-size=\"20.00\">a0</text>\n",
       "</g>\n",
       "<!-- s2&#45;&gt;s2&#45;a0 -->\n",
       "<g id=\"edge13\" class=\"edge\"><title>s2&#45;&gt;s2&#45;a0</title>\n",
       "<path fill=\"none\" stroke=\"red\" stroke-width=\"2\" d=\"M470.375,-158.605C508.288,-157.576 567.173,-154.264 617.154,-144 620.354,-143.343 623.642,-142.525 626.912,-141.613\"/>\n",
       "<polygon fill=\"red\" stroke=\"red\" stroke-width=\"2\" points=\"628.029,-144.931 636.567,-138.658 625.98,-138.238 628.029,-144.931\"/>\n",
       "</g>\n",
       "<!-- s2&#45;a1 -->\n",
       "<g id=\"node9\" class=\"node\"><title>s2&#45;a1</title>\n",
       "<ellipse fill=\"lightpink\" stroke=\"lightpink\" cx=\"662.731\" cy=\"-56\" rx=\"27.6545\" ry=\"27.6545\"/>\n",
       "<text text-anchor=\"middle\" x=\"662.731\" y=\"-51\" font-family=\"Arial\" font-size=\"20.00\">a1</text>\n",
       "</g>\n",
       "<!-- s2&#45;&gt;s2&#45;a1 -->\n",
       "<g id=\"edge16\" class=\"edge\"><title>s2&#45;&gt;s2&#45;a1</title>\n",
       "<path fill=\"none\" stroke=\"red\" stroke-width=\"2\" d=\"M456.579,-128.48C465.696,-119.154 476.6,-109.623 488.154,-103 531.419,-78.2 588.27,-66.0502 624.91,-60.4193\"/>\n",
       "<polygon fill=\"red\" stroke=\"red\" stroke-width=\"2\" points=\"625.742,-63.8353 635.136,-58.9365 624.738,-56.9077 625.742,-63.8353\"/>\n",
       "</g>\n",
       "<!-- s0&#45;a1&#45;&gt;s2 -->\n",
       "<g id=\"edge5\" class=\"edge\"><title>s0&#45;a1&#45;&gt;s2</title>\n",
       "<path fill=\"none\" stroke=\"blue\" stroke-dasharray=\"5,2\" d=\"M219.837,-214.929C254.866,-207.948 318.68,-194.468 372.154,-179 375.531,-178.023 379,-176.96 382.48,-175.848\"/>\n",
       "<polygon fill=\"blue\" stroke=\"blue\" points=\"383.849,-179.082 392.248,-172.624 381.655,-172.435 383.849,-179.082\"/>\n",
       "<text text-anchor=\"middle\" x=\"305.154\" y=\"-216.2\" font-family=\"Arial\" font-size=\"16.00\">p = 1</text>\n",
       "</g>\n",
       "<!-- s1 -->\n",
       "<g id=\"node5\" class=\"node\"><title>s1</title>\n",
       "<ellipse fill=\"lightgreen\" stroke=\"lightgreen\" cx=\"824.309\" cy=\"-106\" rx=\"36\" ry=\"36\"/>\n",
       "<ellipse fill=\"none\" stroke=\"lightgreen\" cx=\"824.309\" cy=\"-106\" rx=\"40\" ry=\"40\"/>\n",
       "<text text-anchor=\"middle\" x=\"824.309\" y=\"-99.8\" font-family=\"Arial\" font-size=\"24.00\">s1</text>\n",
       "</g>\n",
       "<!-- s1&#45;a0 -->\n",
       "<g id=\"node6\" class=\"node\"><title>s1&#45;a0</title>\n",
       "<ellipse fill=\"lightpink\" stroke=\"lightpink\" cx=\"985.886\" cy=\"-70\" rx=\"27.6545\" ry=\"27.6545\"/>\n",
       "<text text-anchor=\"middle\" x=\"985.886\" y=\"-65\" font-family=\"Arial\" font-size=\"20.00\">a0</text>\n",
       "</g>\n",
       "<!-- s1&#45;&gt;s1&#45;a0 -->\n",
       "<g id=\"edge6\" class=\"edge\"><title>s1&#45;&gt;s1&#45;a0</title>\n",
       "<path fill=\"none\" stroke=\"red\" stroke-width=\"2\" d=\"M863.531,-97.3771C889.464,-91.5267 923.525,-83.8428 948.959,-78.105\"/>\n",
       "<polygon fill=\"red\" stroke=\"red\" stroke-width=\"2\" points=\"949.952,-81.469 958.936,-75.8541 948.411,-74.6406 949.952,-81.469\"/>\n",
       "</g>\n",
       "<!-- s1&#45;a1 -->\n",
       "<g id=\"node7\" class=\"node\"><title>s1&#45;a1</title>\n",
       "<ellipse fill=\"lightpink\" stroke=\"lightpink\" cx=\"985.886\" cy=\"-152\" rx=\"27.6545\" ry=\"27.6545\"/>\n",
       "<text text-anchor=\"middle\" x=\"985.886\" y=\"-147\" font-family=\"Arial\" font-size=\"20.00\">a1</text>\n",
       "</g>\n",
       "<!-- s1&#45;&gt;s1&#45;a1 -->\n",
       "<g id=\"edge10\" class=\"edge\"><title>s1&#45;&gt;s1&#45;a1</title>\n",
       "<path fill=\"none\" stroke=\"red\" stroke-width=\"2\" d=\"M863.837,-113.312C886.389,-118.021 915.267,-124.791 940.309,-133 943.876,-134.169 947.554,-135.508 951.196,-136.922\"/>\n",
       "<polygon fill=\"red\" stroke=\"red\" stroke-width=\"2\" points=\"950.07,-140.243 960.651,-140.775 952.712,-133.76 950.07,-140.243\"/>\n",
       "</g>\n",
       "<!-- s1&#45;a0&#45;&gt;s0 -->\n",
       "<g id=\"edge7\" class=\"edge\"><title>s1&#45;a0&#45;&gt;s0</title>\n",
       "<path fill=\"none\" stroke=\"blue\" stroke-dasharray=\"5,2\" d=\"M963.474,-53.7646C934.012,-33.0859 878.553,-0 825.309,-0 191.577,-0 191.577,-0 191.577,-0 144.186,-0 100.753,-35.1875 72.8408,-64.4291\"/>\n",
       "<polygon fill=\"blue\" stroke=\"blue\" points=\"69.9662,-62.382 65.7381,-72.0966 75.1015,-67.139 69.9662,-62.382\"/>\n",
       "<text text-anchor=\"middle\" x=\"552.654\" y=\"-5.2\" font-family=\"Arial\" font-size=\"16.00\">p = 0.7 &#160;reward =5</text>\n",
       "</g>\n",
       "<!-- s1&#45;a0&#45;&gt;s2 -->\n",
       "<g id=\"edge9\" class=\"edge\"><title>s1&#45;a0&#45;&gt;s2</title>\n",
       "<path fill=\"none\" stroke=\"blue\" stroke-dasharray=\"5,2\" d=\"M970.179,-92.8767C966.041,-99.8269 961.738,-107.589 958.309,-115 948.039,-137.196 960.231,-152.814 940.309,-167 867.594,-218.778 592.763,-183.887 479.943,-166.845\"/>\n",
       "<polygon fill=\"blue\" stroke=\"blue\" points=\"480.276,-163.355 469.862,-165.304 479.218,-170.275 480.276,-163.355\"/>\n",
       "<text text-anchor=\"middle\" x=\"737.309\" y=\"-200.2\" font-family=\"Arial\" font-size=\"16.00\">p = 0.2</text>\n",
       "</g>\n",
       "<!-- s1&#45;a0&#45;&gt;s1 -->\n",
       "<g id=\"edge8\" class=\"edge\"><title>s1&#45;a0&#45;&gt;s1</title>\n",
       "<path fill=\"none\" stroke=\"blue\" stroke-dasharray=\"5,2\" d=\"M959.695,-61.2337C938.465,-55.2571 907.594,-49.9199 882.309,-59 874.67,-61.7432 867.325,-66.0021 860.594,-70.8598\"/>\n",
       "<polygon fill=\"blue\" stroke=\"blue\" points=\"858.135,-68.3406 852.423,-77.264 862.453,-73.8502 858.135,-68.3406\"/>\n",
       "<text text-anchor=\"middle\" x=\"911.309\" y=\"-64.2\" font-family=\"Arial\" font-size=\"16.00\">p = 0.1</text>\n",
       "</g>\n",
       "<!-- s1&#45;a1&#45;&gt;s2 -->\n",
       "<g id=\"edge12\" class=\"edge\"><title>s1&#45;a1&#45;&gt;s2</title>\n",
       "<path fill=\"none\" stroke=\"blue\" stroke-dasharray=\"5,2\" d=\"M969.759,-174.512C962.133,-183.877 952.013,-193.769 940.309,-199 756.84,-280.995 679.08,-261.7 488.154,-199 481.749,-196.897 475.43,-193.811 469.463,-190.272\"/>\n",
       "<polygon fill=\"blue\" stroke=\"blue\" points=\"471.306,-187.296 461.003,-184.823 467.515,-193.181 471.306,-187.296\"/>\n",
       "<text text-anchor=\"middle\" x=\"737.309\" y=\"-258.2\" font-family=\"Arial\" font-size=\"16.00\">p = 0.05</text>\n",
       "</g>\n",
       "<!-- s1&#45;a1&#45;&gt;s1 -->\n",
       "<g id=\"edge11\" class=\"edge\"><title>s1&#45;a1&#45;&gt;s1</title>\n",
       "<path fill=\"none\" stroke=\"blue\" stroke-dasharray=\"5,2\" d=\"M958.394,-147.727C937.471,-144.016 907.674,-137.983 882.309,-130 878.5,-128.801 874.595,-127.444 870.702,-126.001\"/>\n",
       "<polygon fill=\"blue\" stroke=\"blue\" points=\"871.701,-122.634 861.112,-122.273 869.165,-129.158 871.701,-122.634\"/>\n",
       "<text text-anchor=\"middle\" x=\"911.309\" y=\"-150.2\" font-family=\"Arial\" font-size=\"16.00\">p = 0.95</text>\n",
       "</g>\n",
       "<!-- s2&#45;a0&#45;&gt;s0 -->\n",
       "<g id=\"edge14\" class=\"edge\"><title>s2&#45;a0&#45;&gt;s0</title>\n",
       "<path fill=\"none\" stroke=\"blue\" stroke-dasharray=\"5,2\" d=\"M639.021,-114.018C632.261,-110.335 624.651,-106.904 617.154,-105 427.072,-56.7313 190.201,-81.2241 89.7024,-95.3394\"/>\n",
       "<polygon fill=\"blue\" stroke=\"blue\" points=\"88.9547,-91.9108 79.5531,-96.7954 89.9488,-98.8398 88.9547,-91.9108\"/>\n",
       "<text text-anchor=\"middle\" x=\"305.154\" y=\"-86.2\" font-family=\"Arial\" font-size=\"16.00\">p = 0.4</text>\n",
       "</g>\n",
       "<!-- s2&#45;a0&#45;&gt;s1 -->\n",
       "<g id=\"edge15\" class=\"edge\"><title>s2&#45;a0&#45;&gt;s1</title>\n",
       "<path fill=\"none\" stroke=\"blue\" stroke-dasharray=\"5,2\" d=\"M690.082,-125.202C713.025,-121.895 746.878,-117.016 774.717,-113.004\"/>\n",
       "<polygon fill=\"blue\" stroke=\"blue\" points=\"775.272,-116.46 784.67,-111.569 774.273,-109.531 775.272,-116.46\"/>\n",
       "<text text-anchor=\"middle\" x=\"737.309\" y=\"-128.2\" font-family=\"Arial\" font-size=\"16.00\">p = 0.6</text>\n",
       "</g>\n",
       "<!-- s2&#45;a1&#45;&gt;s0 -->\n",
       "<g id=\"edge17\" class=\"edge\"><title>s2&#45;a1&#45;&gt;s0</title>\n",
       "<path fill=\"none\" stroke=\"blue\" stroke-dasharray=\"5,2\" d=\"M634.867,-53.9388C567.736,-49.2213 387.339,-39.2124 238.154,-55 185.836,-60.5367 127.463,-75.9491 87.9054,-87.8304\"/>\n",
       "<polygon fill=\"blue\" stroke=\"blue\" points=\"86.8144,-84.5039 78.2688,-90.7669 88.8548,-91.1999 86.8144,-84.5039\"/>\n",
       "<text text-anchor=\"middle\" x=\"305.154\" y=\"-60.2\" font-family=\"Arial\" font-size=\"16.00\">p = 0.3 &#160;reward =&#45;1</text>\n",
       "</g>\n",
       "<!-- s2&#45;a1&#45;&gt;s2 -->\n",
       "<g id=\"edge19\" class=\"edge\"><title>s2&#45;a1&#45;&gt;s2</title>\n",
       "<path fill=\"none\" stroke=\"blue\" stroke-dasharray=\"5,2\" d=\"M644.001,-76.5595C636.457,-84.0842 627.104,-91.9769 617.154,-97 565.021,-123.32 542.31,-100.144 488.154,-122 482.617,-124.235 477.042,-127.032 471.66,-130.082\"/>\n",
       "<polygon fill=\"blue\" stroke=\"blue\" points=\"469.588,-127.243 462.825,-135.398 473.198,-133.241 469.588,-127.243\"/>\n",
       "<text text-anchor=\"middle\" x=\"552.654\" y=\"-127.2\" font-family=\"Arial\" font-size=\"16.00\">p = 0.4</text>\n",
       "</g>\n",
       "<!-- s2&#45;a1&#45;&gt;s1 -->\n",
       "<g id=\"edge18\" class=\"edge\"><title>s2&#45;a1&#45;&gt;s1</title>\n",
       "<path fill=\"none\" stroke=\"blue\" stroke-dasharray=\"5,2\" d=\"M689.37,-64.0334C712.698,-71.3427 747.719,-82.3157 776.1,-91.2083\"/>\n",
       "<polygon fill=\"blue\" stroke=\"blue\" points=\"775.243,-94.6074 785.832,-94.2575 777.336,-87.9276 775.243,-94.6074\"/>\n",
       "<text text-anchor=\"middle\" x=\"737.309\" y=\"-92.2\" font-family=\"Arial\" font-size=\"16.00\">p = 0.3</text>\n",
       "</g>\n",
       "</g>\n",
       "</svg>\n"
      ],
      "text/plain": [
       "<graphviz.dot.Digraph at 0x7f0243f7a1d0>"
      ]
     },
     "metadata": {},
     "output_type": "display_data"
    }
   ],
   "source": [
    "if has_graphviz:\n",
    "    display(plot_graph(mdp))"
   ]
  },
  {
   "cell_type": "markdown",
   "metadata": {},
   "source": [
    "### Value Iteration\n",
    "\n",
    "Now let's build something to solve this MDP. The simplest algorithm so far is __V__alue __I__teration\n",
    "\n",
    "Here's the pseudo-code for VI:\n",
    "\n",
    "---\n",
    "\n",
    "`1.` Initialize $V^{(0)}(s)=0$, for all $s$\n",
    "\n",
    "`2.` For $i=0, 1, 2, \\dots$\n",
    " \n",
    "`3.` $ \\quad V_{(i+1)}(s) = \\max_a \\sum_{s'} P(s' | s,a) \\cdot [ r(s,a,s') + \\gamma V_{i}(s')]$, for all $s$\n",
    "\n",
    "---"
   ]
  },
  {
   "cell_type": "markdown",
   "metadata": {},
   "source": [
    "First, let's write a function to compute the state-action value function $Q^{\\pi}$, defined as follows\n",
    "\n",
    "$$Q_i(s, a) = \\sum_{s'} P(s' | s,a) \\cdot [ r(s,a,s') + \\gamma V_{i}(s')]$$\n"
   ]
  },
  {
   "cell_type": "code",
   "execution_count": 3,
   "metadata": {
    "ExecuteTime": {
     "end_time": "2018-04-02T13:43:17.101416Z",
     "start_time": "2018-04-02T13:43:17.095468Z"
    }
   },
   "outputs": [],
   "source": [
    "def get_action_value(mdp, state_values, state, action, gamma):\n",
    "    \"\"\" Computes Q(s,a) as in formula above \"\"\"\n",
    "\n",
    "    q_s_a = sum([mdp.get_transition_prob(state, action, next_state)*\n",
    "                 (mdp.get_reward(state, action, next_state) + gamma*state_values[next_state]) \n",
    "                 for next_state in state_values.keys()])\n",
    "\n",
    "    return q_s_a"
   ]
  },
  {
   "cell_type": "code",
   "execution_count": 6,
   "metadata": {
    "ExecuteTime": {
     "end_time": "2018-04-02T13:43:17.102247Z",
     "start_time": "2018-04-02T13:43:05.502Z"
    }
   },
   "outputs": [
    {
     "name": "stdout",
     "output_type": "stream",
     "text": [
      "{'s0': 0, 's1': 1, 's2': 2}\n"
     ]
    }
   ],
   "source": [
    "import numpy as np\n",
    "test_Vs = {s: i for i, s in enumerate(sorted(mdp.get_all_states()))}\n",
    "print(test_Vs)\n",
    "assert np.allclose(get_action_value(mdp, test_Vs, 's2', 'a1', 0.9), 0.69)\n",
    "assert np.allclose(get_action_value(mdp, test_Vs, 's1', 'a0', 0.9), 3.95)"
   ]
  },
  {
   "cell_type": "markdown",
   "metadata": {},
   "source": [
    "Using $Q(s,a)$ we can now define the \"next\" V(s) for value iteration.\n",
    " $$V_{(i+1)}(s) = \\max_a \\sum_{s'} P(s' | s,a) \\cdot [ r(s,a,s') + \\gamma V_{i}(s')] = \\max_a Q_i(s,a)$$"
   ]
  },
  {
   "cell_type": "code",
   "execution_count": 7,
   "metadata": {},
   "outputs": [
    {
     "data": {
      "text/plain": [
       "('a0', 'a1')"
      ]
     },
     "execution_count": 7,
     "metadata": {},
     "output_type": "execute_result"
    }
   ],
   "source": [
    "mdp.get_possible_actions('s0')"
   ]
  },
  {
   "cell_type": "code",
   "execution_count": 8,
   "metadata": {
    "ExecuteTime": {
     "end_time": "2018-04-02T13:43:17.103358Z",
     "start_time": "2018-04-02T13:43:05.506Z"
    }
   },
   "outputs": [],
   "source": [
    "def get_new_state_value(mdp, state_values, state, gamma):\n",
    "    \"\"\" Computes next V(s) as in formula above. Please do not change state_values in process. \"\"\"\n",
    "    if mdp.is_terminal(state):\n",
    "        return 0\n",
    "    v_i_1 = max([get_action_value(mdp, state_values, state, a, gamma) for a in mdp.get_possible_actions(state)])\n",
    "    \n",
    "    return v_i_1"
   ]
  },
  {
   "cell_type": "code",
   "execution_count": 9,
   "metadata": {
    "ExecuteTime": {
     "end_time": "2018-04-02T13:43:17.104340Z",
     "start_time": "2018-04-02T13:43:05.510Z"
    }
   },
   "outputs": [],
   "source": [
    "test_Vs_copy = dict(test_Vs)\n",
    "assert np.allclose(get_new_state_value(mdp, test_Vs, 's0', 0.9), 1.8)\n",
    "assert np.allclose(get_new_state_value(mdp, test_Vs, 's2', 0.9), 0.69)\n",
    "assert test_Vs == test_Vs_copy, \"please do not change state_values in get_new_state_value\""
   ]
  },
  {
   "cell_type": "markdown",
   "metadata": {},
   "source": [
    "Finally, let's combine everything we wrote into a working value iteration algo."
   ]
  },
  {
   "cell_type": "code",
   "execution_count": 10,
   "metadata": {
    "ExecuteTime": {
     "end_time": "2018-04-02T13:44:09.793405Z",
     "start_time": "2018-04-02T13:44:09.770623Z"
    }
   },
   "outputs": [
    {
     "data": {
      "image/svg+xml": [
       "<?xml version=\"1.0\" encoding=\"UTF-8\" standalone=\"no\"?>\n",
       "<!DOCTYPE svg PUBLIC \"-//W3C//DTD SVG 1.1//EN\"\n",
       " \"http://www.w3.org/Graphics/SVG/1.1/DTD/svg11.dtd\">\n",
       "<!-- Generated by graphviz version 2.38.0 (20140413.2041)\n",
       " -->\n",
       "<!-- Title: MDP Pages: 1 -->\n",
       "<svg width=\"720pt\" height=\"182pt\"\n",
       " viewBox=\"0.00 0.00 720.00 181.70\" xmlns=\"http://www.w3.org/2000/svg\" xmlns:xlink=\"http://www.w3.org/1999/xlink\">\n",
       "<g id=\"graph0\" class=\"graph\" transform=\"scale(0.66072 0.66072) rotate(0) translate(4 271)\">\n",
       "<title>MDP</title>\n",
       "<polygon fill=\"white\" stroke=\"none\" points=\"-4,4 -4,-271 1085.72,-271 1085.72,4 -4,4\"/>\n",
       "<!-- s0 -->\n",
       "<g id=\"node1\" class=\"node\"><title>s0</title>\n",
       "<ellipse fill=\"lightgreen\" stroke=\"lightgreen\" cx=\"51.3762\" cy=\"-103\" rx=\"47.2622\" ry=\"47.2622\"/>\n",
       "<ellipse fill=\"none\" stroke=\"lightgreen\" cx=\"51.3762\" cy=\"-103\" rx=\"51.2526\" ry=\"51.2526\"/>\n",
       "<text text-anchor=\"middle\" x=\"51.3762\" y=\"-109.8\" font-family=\"Arial\" font-size=\"24.00\">s0</text>\n",
       "<text text-anchor=\"middle\" x=\"51.3762\" y=\"-83.8\" font-family=\"Arial\" font-size=\"24.00\">V =0</text>\n",
       "</g>\n",
       "<!-- s0&#45;a0 -->\n",
       "<g id=\"node2\" class=\"node\"><title>s0&#45;a0</title>\n",
       "<ellipse fill=\"lightpink\" stroke=\"lightpink\" cx=\"215.329\" cy=\"-147\" rx=\"27.6545\" ry=\"27.6545\"/>\n",
       "<text text-anchor=\"middle\" x=\"215.329\" y=\"-142\" font-family=\"Arial\" font-size=\"20.00\">a0</text>\n",
       "</g>\n",
       "<!-- s0&#45;&gt;s0&#45;a0 -->\n",
       "<g id=\"edge1\" class=\"edge\"><title>s0&#45;&gt;s0&#45;a0</title>\n",
       "<path fill=\"none\" stroke=\"red\" stroke-width=\"2\" d=\"M101.889,-112.799C122.98,-117.382 147.746,-123.308 169.752,-130 173.103,-131.019 176.563,-132.165 180.004,-133.368\"/>\n",
       "<polygon fill=\"red\" stroke=\"red\" stroke-width=\"2\" points=\"178.955,-136.711 189.549,-136.854 181.356,-130.136 178.955,-136.711\"/>\n",
       "</g>\n",
       "<!-- s0&#45;a1 -->\n",
       "<g id=\"node4\" class=\"node\"><title>s0&#45;a1</title>\n",
       "<ellipse fill=\"lightpink\" stroke=\"lightpink\" cx=\"215.329\" cy=\"-220\" rx=\"27.6545\" ry=\"27.6545\"/>\n",
       "<text text-anchor=\"middle\" x=\"215.329\" y=\"-215\" font-family=\"Arial\" font-size=\"20.00\">a1</text>\n",
       "</g>\n",
       "<!-- s0&#45;&gt;s0&#45;a1 -->\n",
       "<g id=\"edge4\" class=\"edge\"><title>s0&#45;&gt;s0&#45;a1</title>\n",
       "<path fill=\"none\" stroke=\"red\" stroke-width=\"2\" d=\"M90.2967,-136.798C100.008,-144.996 110.587,-153.541 120.752,-161 140.58,-175.548 163.984,-190.304 182.426,-201.419\"/>\n",
       "<polygon fill=\"red\" stroke=\"red\" stroke-width=\"2\" points=\"180.664,-204.443 191.044,-206.567 184.254,-198.434 180.664,-204.443\"/>\n",
       "</g>\n",
       "<!-- s0&#45;a0&#45;&gt;s0 -->\n",
       "<g id=\"edge2\" class=\"edge\"><title>s0&#45;a0&#45;&gt;s0</title>\n",
       "<path fill=\"none\" stroke=\"blue\" stroke-dasharray=\"5,2\" d=\"M187.893,-142.279C169.03,-138.686 143.142,-133.295 120.752,-127 117.149,-125.987 113.46,-124.885 109.754,-123.729\"/>\n",
       "<polygon fill=\"blue\" stroke=\"blue\" points=\"110.541,-120.306 99.9492,-120.566 108.391,-126.967 110.541,-120.306\"/>\n",
       "<text text-anchor=\"middle\" x=\"145.252\" y=\"-144.2\" font-family=\"Arial\" font-size=\"16.00\">p = 0.5</text>\n",
       "</g>\n",
       "<!-- s2 -->\n",
       "<g id=\"node3\" class=\"node\"><title>s2</title>\n",
       "<ellipse fill=\"lightgreen\" stroke=\"lightgreen\" cx=\"464.283\" cy=\"-170\" rx=\"47.2622\" ry=\"47.2622\"/>\n",
       "<ellipse fill=\"none\" stroke=\"lightgreen\" cx=\"464.283\" cy=\"-170\" rx=\"51.2526\" ry=\"51.2526\"/>\n",
       "<text text-anchor=\"middle\" x=\"464.283\" y=\"-176.8\" font-family=\"Arial\" font-size=\"24.00\">s2</text>\n",
       "<text text-anchor=\"middle\" x=\"464.283\" y=\"-150.8\" font-family=\"Arial\" font-size=\"24.00\">V =0</text>\n",
       "</g>\n",
       "<!-- s0&#45;a0&#45;&gt;s2 -->\n",
       "<g id=\"edge3\" class=\"edge\"><title>s0&#45;a0&#45;&gt;s2</title>\n",
       "<path fill=\"none\" stroke=\"blue\" stroke-dasharray=\"5,2\" d=\"M243.228,-149.505C281.237,-153.045 351.708,-159.608 402.68,-164.356\"/>\n",
       "<polygon fill=\"blue\" stroke=\"blue\" points=\"402.639,-167.867 412.921,-165.31 403.288,-160.897 402.639,-167.867\"/>\n",
       "<text text-anchor=\"middle\" x=\"327.907\" y=\"-169.2\" font-family=\"Arial\" font-size=\"16.00\">p = 0.5</text>\n",
       "</g>\n",
       "<!-- s2&#45;a0 -->\n",
       "<g id=\"node8\" class=\"node\"><title>s2&#45;a0</title>\n",
       "<ellipse fill=\"lightpink\" stroke=\"lightpink\" cx=\"708.236\" cy=\"-129\" rx=\"27.6545\" ry=\"27.6545\"/>\n",
       "<text text-anchor=\"middle\" x=\"708.236\" y=\"-124\" font-family=\"Arial\" font-size=\"20.00\">a0</text>\n",
       "</g>\n",
       "<!-- s2&#45;&gt;s2&#45;a0 -->\n",
       "<g id=\"edge13\" class=\"edge\"><title>s2&#45;&gt;s2&#45;a0</title>\n",
       "<path fill=\"none\" stroke=\"red\" stroke-width=\"2\" d=\"M515.716,-166.666C555.925,-163.279 613.451,-156.797 662.659,-145 665.857,-144.233 669.145,-143.315 672.415,-142.313\"/>\n",
       "<polygon fill=\"red\" stroke=\"red\" stroke-width=\"2\" points=\"673.676,-145.582 682.068,-139.115 671.475,-138.937 673.676,-145.582\"/>\n",
       "</g>\n",
       "<!-- s2&#45;a1 -->\n",
       "<g id=\"node9\" class=\"node\"><title>s2&#45;a1</title>\n",
       "<ellipse fill=\"lightpink\" stroke=\"lightpink\" cx=\"708.236\" cy=\"-56\" rx=\"27.6545\" ry=\"27.6545\"/>\n",
       "<text text-anchor=\"middle\" x=\"708.236\" y=\"-51\" font-family=\"Arial\" font-size=\"20.00\">a1</text>\n",
       "</g>\n",
       "<!-- s2&#45;&gt;s2&#45;a1 -->\n",
       "<g id=\"edge16\" class=\"edge\"><title>s2&#45;&gt;s2&#45;a1</title>\n",
       "<path fill=\"none\" stroke=\"red\" stroke-width=\"2\" d=\"M498.223,-131.044C508.645,-120.684 520.821,-110.348 533.659,-103 576.94,-78.2285 633.787,-66.0716 670.421,-60.4314\"/>\n",
       "<polygon fill=\"red\" stroke=\"red\" stroke-width=\"2\" points=\"671.254,-63.8473 680.646,-58.9458 670.247,-56.92 671.254,-63.8473\"/>\n",
       "</g>\n",
       "<!-- s0&#45;a1&#45;&gt;s2 -->\n",
       "<g id=\"edge5\" class=\"edge\"><title>s0&#45;a1&#45;&gt;s2</title>\n",
       "<path fill=\"none\" stroke=\"blue\" stroke-dasharray=\"5,2\" d=\"M242.722,-215.331C277.631,-209.073 341.033,-197.427 394.907,-186 397.911,-185.363 400.985,-184.696 404.088,-184.012\"/>\n",
       "<polygon fill=\"blue\" stroke=\"blue\" points=\"405.046,-187.384 414.038,-181.782 403.515,-180.554 405.046,-187.384\"/>\n",
       "<text text-anchor=\"middle\" x=\"327.907\" y=\"-217.2\" font-family=\"Arial\" font-size=\"16.00\">p = 1</text>\n",
       "</g>\n",
       "<!-- s1 -->\n",
       "<g id=\"node5\" class=\"node\"><title>s1</title>\n",
       "<ellipse fill=\"lightgreen\" stroke=\"lightgreen\" cx=\"881.189\" cy=\"-100\" rx=\"47.2622\" ry=\"47.2622\"/>\n",
       "<ellipse fill=\"none\" stroke=\"lightgreen\" cx=\"881.189\" cy=\"-100\" rx=\"51.2526\" ry=\"51.2526\"/>\n",
       "<text text-anchor=\"middle\" x=\"881.189\" y=\"-106.8\" font-family=\"Arial\" font-size=\"24.00\">s1</text>\n",
       "<text text-anchor=\"middle\" x=\"881.189\" y=\"-80.8\" font-family=\"Arial\" font-size=\"24.00\">V =0</text>\n",
       "</g>\n",
       "<!-- s1&#45;a0 -->\n",
       "<g id=\"node6\" class=\"node\"><title>s1&#45;a0</title>\n",
       "<ellipse fill=\"lightpink\" stroke=\"lightpink\" cx=\"1054.14\" cy=\"-70\" rx=\"27.6545\" ry=\"27.6545\"/>\n",
       "<text text-anchor=\"middle\" x=\"1054.14\" y=\"-65\" font-family=\"Arial\" font-size=\"20.00\">a0</text>\n",
       "</g>\n",
       "<!-- s1&#45;&gt;s1&#45;a0 -->\n",
       "<g id=\"edge6\" class=\"edge\"><title>s1&#45;&gt;s1&#45;a0</title>\n",
       "<path fill=\"none\" stroke=\"red\" stroke-width=\"2\" d=\"M932.136,-92.8454C955.424,-89.3177 983.474,-84.7948 1008.57,-80 1011.25,-79.4873 1014.02,-78.9316 1016.8,-78.3538\"/>\n",
       "<polygon fill=\"red\" stroke=\"red\" stroke-width=\"2\" points=\"1017.76,-81.7266 1026.8,-76.2012 1016.29,-74.8833 1017.76,-81.7266\"/>\n",
       "</g>\n",
       "<!-- s1&#45;a1 -->\n",
       "<g id=\"node7\" class=\"node\"><title>s1&#45;a1</title>\n",
       "<ellipse fill=\"lightpink\" stroke=\"lightpink\" cx=\"1054.14\" cy=\"-152\" rx=\"27.6545\" ry=\"27.6545\"/>\n",
       "<text text-anchor=\"middle\" x=\"1054.14\" y=\"-147\" font-family=\"Arial\" font-size=\"20.00\">a1</text>\n",
       "</g>\n",
       "<!-- s1&#45;&gt;s1&#45;a1 -->\n",
       "<g id=\"edge10\" class=\"edge\"><title>s1&#45;&gt;s1&#45;a1</title>\n",
       "<path fill=\"none\" stroke=\"red\" stroke-width=\"2\" d=\"M931.6,-111.11C955.148,-116.859 983.566,-124.46 1008.57,-133 1012.12,-134.214 1015.79,-135.581 1019.42,-137.013\"/>\n",
       "<polygon fill=\"red\" stroke=\"red\" stroke-width=\"2\" points=\"1018.29,-140.331 1028.87,-140.888 1020.95,-133.855 1018.29,-140.331\"/>\n",
       "</g>\n",
       "<!-- s1&#45;a0&#45;&gt;s0 -->\n",
       "<g id=\"edge7\" class=\"edge\"><title>s1&#45;a0&#45;&gt;s0</title>\n",
       "<path fill=\"none\" stroke=\"blue\" stroke-dasharray=\"5,2\" d=\"M1031.1,-54.4647C999.626,-33.8422 939.276,-0 882.189,-0 214.329,-0 214.329,-0 214.329,-0 167.945,-0 124.119,-30.4548 93.7835,-58.244\"/>\n",
       "<polygon fill=\"blue\" stroke=\"blue\" points=\"91.246,-55.8261 86.3685,-65.2315 96.0467,-60.9205 91.246,-55.8261\"/>\n",
       "<text text-anchor=\"middle\" x=\"598.159\" y=\"-5.2\" font-family=\"Arial\" font-size=\"16.00\">p = 0.7 &#160;reward =5</text>\n",
       "</g>\n",
       "<!-- s1&#45;a0&#45;&gt;s2 -->\n",
       "<g id=\"edge9\" class=\"edge\"><title>s1&#45;a0&#45;&gt;s2</title>\n",
       "<path fill=\"none\" stroke=\"blue\" stroke-dasharray=\"5,2\" d=\"M1038.44,-92.8767C1034.3,-99.8269 1029.99,-107.589 1026.57,-115 1016.3,-137.196 1028.45,-152.757 1008.57,-167 932.869,-221.231 650.751,-193.592 525.661,-178.112\"/>\n",
       "<polygon fill=\"blue\" stroke=\"blue\" points=\"525.85,-174.608 515.492,-176.837 524.979,-181.553 525.85,-174.608\"/>\n",
       "<text text-anchor=\"middle\" x=\"782.813\" y=\"-205.2\" font-family=\"Arial\" font-size=\"16.00\">p = 0.2</text>\n",
       "</g>\n",
       "<!-- s1&#45;a0&#45;&gt;s1 -->\n",
       "<g id=\"edge8\" class=\"edge\"><title>s1&#45;a0&#45;&gt;s1</title>\n",
       "<path fill=\"none\" stroke=\"blue\" stroke-dasharray=\"5,2\" d=\"M1027.84,-61.6556C1006.81,-55.9918 976.274,-50.7348 950.566,-58 944.407,-59.7404 938.257,-62.2086 932.311,-65.0873\"/>\n",
       "<polygon fill=\"blue\" stroke=\"blue\" points=\"930.381,-62.148 923.162,-69.9034 933.641,-68.3421 930.381,-62.148\"/>\n",
       "<text text-anchor=\"middle\" x=\"979.566\" y=\"-63.2\" font-family=\"Arial\" font-size=\"16.00\">p = 0.1</text>\n",
       "</g>\n",
       "<!-- s1&#45;a1&#45;&gt;s2 -->\n",
       "<g id=\"edge12\" class=\"edge\"><title>s1&#45;a1&#45;&gt;s2</title>\n",
       "<path fill=\"none\" stroke=\"blue\" stroke-dasharray=\"5,2\" d=\"M1038.02,-174.53C1030.4,-183.898 1020.28,-193.788 1008.57,-199 815.722,-284.801 740.007,-243.395 533.659,-199 529.286,-198.059 524.843,-196.841 520.429,-195.438\"/>\n",
       "<polygon fill=\"blue\" stroke=\"blue\" points=\"521.445,-192.086 510.851,-192.106 519.146,-198.697 521.445,-192.086\"/>\n",
       "<text text-anchor=\"middle\" x=\"782.813\" y=\"-254.2\" font-family=\"Arial\" font-size=\"16.00\">p = 0.05</text>\n",
       "</g>\n",
       "<!-- s1&#45;a1&#45;&gt;s1 -->\n",
       "<g id=\"edge11\" class=\"edge\"><title>s1&#45;a1&#45;&gt;s1</title>\n",
       "<path fill=\"none\" stroke=\"blue\" stroke-dasharray=\"5,2\" d=\"M1026.62,-147.831C1005.68,-144.178 975.871,-138.172 950.566,-130 946.287,-128.618 941.912,-127.06 937.546,-125.399\"/>\n",
       "<polygon fill=\"blue\" stroke=\"blue\" points=\"938.628,-122.063 928.042,-121.625 936.045,-128.569 938.628,-122.063\"/>\n",
       "<text text-anchor=\"middle\" x=\"979.566\" y=\"-150.2\" font-family=\"Arial\" font-size=\"16.00\">p = 0.95</text>\n",
       "</g>\n",
       "<!-- s2&#45;a0&#45;&gt;s0 -->\n",
       "<g id=\"edge14\" class=\"edge\"><title>s2&#45;a0&#45;&gt;s0</title>\n",
       "<path fill=\"none\" stroke=\"blue\" stroke-dasharray=\"5,2\" d=\"M684.526,-114.017C677.766,-110.334 670.156,-106.903 662.659,-105 466.473,-55.2017 223.243,-78.6121 112.43,-93.7005\"/>\n",
       "<polygon fill=\"blue\" stroke=\"blue\" points=\"111.868,-90.2448 102.444,-95.0868 112.83,-97.1783 111.868,-90.2448\"/>\n",
       "<text text-anchor=\"middle\" x=\"327.907\" y=\"-84.2\" font-family=\"Arial\" font-size=\"16.00\">p = 0.4</text>\n",
       "</g>\n",
       "<!-- s2&#45;a0&#45;&gt;s1 -->\n",
       "<g id=\"edge15\" class=\"edge\"><title>s2&#45;a0&#45;&gt;s1</title>\n",
       "<path fill=\"none\" stroke=\"blue\" stroke-dasharray=\"5,2\" d=\"M735.573,-124.532C758.11,-120.709 791.406,-115.061 820.37,-110.148\"/>\n",
       "<polygon fill=\"blue\" stroke=\"blue\" points=\"821.136,-113.568 830.41,-108.444 819.965,-106.666 821.136,-113.568\"/>\n",
       "<text text-anchor=\"middle\" x=\"782.813\" y=\"-127.2\" font-family=\"Arial\" font-size=\"16.00\">p = 0.6</text>\n",
       "</g>\n",
       "<!-- s2&#45;a1&#45;&gt;s0 -->\n",
       "<g id=\"edge17\" class=\"edge\"><title>s2&#45;a1&#45;&gt;s0</title>\n",
       "<path fill=\"none\" stroke=\"blue\" stroke-dasharray=\"5,2\" d=\"M680.723,-53.7592C611.457,-48.3509 419.456,-36.2213 260.907,-53 209.152,-58.477 151.739,-72.8818 110.28,-84.8309\"/>\n",
       "<polygon fill=\"blue\" stroke=\"blue\" points=\"109.244,-81.4871 100.627,-87.6515 111.207,-88.2061 109.244,-81.4871\"/>\n",
       "<text text-anchor=\"middle\" x=\"327.907\" y=\"-58.2\" font-family=\"Arial\" font-size=\"16.00\">p = 0.3 &#160;reward =&#45;1</text>\n",
       "</g>\n",
       "<!-- s2&#45;a1&#45;&gt;s2 -->\n",
       "<g id=\"edge19\" class=\"edge\"><title>s2&#45;a1&#45;&gt;s2</title>\n",
       "<path fill=\"none\" stroke=\"blue\" stroke-dasharray=\"5,2\" d=\"M689.486,-76.5213C681.939,-84.0408 672.59,-91.9398 662.659,-97 610.548,-123.553 587.516,-100.195 533.659,-123 527.002,-125.819 520.327,-129.339 513.897,-133.177\"/>\n",
       "<polygon fill=\"blue\" stroke=\"blue\" points=\"511.913,-130.289 505.306,-138.571 515.636,-136.218 511.913,-130.289\"/>\n",
       "<text text-anchor=\"middle\" x=\"598.159\" y=\"-128.2\" font-family=\"Arial\" font-size=\"16.00\">p = 0.4</text>\n",
       "</g>\n",
       "<!-- s2&#45;a1&#45;&gt;s1 -->\n",
       "<g id=\"edge18\" class=\"edge\"><title>s2&#45;a1&#45;&gt;s1</title>\n",
       "<path fill=\"none\" stroke=\"blue\" stroke-dasharray=\"5,2\" d=\"M735.2,-62.6827C758.026,-68.5576 792.093,-77.3257 821.47,-84.8867\"/>\n",
       "<polygon fill=\"blue\" stroke=\"blue\" points=\"820.673,-88.2956 831.23,-87.3987 822.418,-81.5166 820.673,-88.2956\"/>\n",
       "<text text-anchor=\"middle\" x=\"782.813\" y=\"-87.2\" font-family=\"Arial\" font-size=\"16.00\">p = 0.3</text>\n",
       "</g>\n",
       "</g>\n",
       "</svg>\n"
      ],
      "text/plain": [
       "<graphviz.dot.Digraph at 0x7f02408968d0>"
      ]
     },
     "metadata": {},
     "output_type": "display_data"
    },
    {
     "data": {
      "text/plain": [
       "None"
      ]
     },
     "metadata": {},
     "output_type": "display_data"
    },
    {
     "name": "stdout",
     "output_type": "stream",
     "text": [
      "iter    0   |   diff: 3.50000   |   V(s0) = 0.000   V(s1) = 0.000   V(s2) = 0.000\n",
      "\n",
      "iter    1   |   diff: 1.89000   |   V(s0) = 0.000   V(s1) = 3.500   V(s2) = 0.000\n",
      "\n",
      "iter    2   |   diff: 1.70100   |   V(s0) = 0.000   V(s1) = 3.815   V(s2) = 1.890\n",
      "\n",
      "iter    3   |   diff: 1.13542   |   V(s0) = 1.701   V(s1) = 4.184   V(s2) = 2.060\n",
      "\n",
      "iter    4   |   diff: 0.73024   |   V(s0) = 1.854   V(s1) = 5.319   V(s2) = 2.871\n",
      "\n",
      "iter    5   |   diff: 0.61135   |   V(s0) = 2.584   V(s1) = 5.664   V(s2) = 3.540\n",
      "\n",
      "iter    6   |   diff: 0.54664   |   V(s0) = 3.186   V(s1) = 6.275   V(s2) = 3.989\n",
      "\n",
      "iter    7   |   diff: 0.49198   |   V(s0) = 3.590   V(s1) = 6.790   V(s2) = 4.535\n",
      "\n",
      "iter    8   |   diff: 0.42210   |   V(s0) = 4.082   V(s1) = 7.189   V(s2) = 4.959\n",
      "\n",
      "iter    9   |   diff: 0.36513   |   V(s0) = 4.463   V(s1) = 7.611   V(s2) = 5.352\n",
      "\n",
      "iter   10   |   diff: 0.32862   |   V(s0) = 4.816   V(s1) = 7.960   V(s2) = 5.717\n",
      "\n",
      "iter   11   |   diff: 0.29262   |   V(s0) = 5.145   V(s1) = 8.280   V(s2) = 6.032\n",
      "\n",
      "iter   12   |   diff: 0.26189   |   V(s0) = 5.429   V(s1) = 8.572   V(s2) = 6.323\n",
      "\n",
      "iter   13   |   diff: 0.23503   |   V(s0) = 5.691   V(s1) = 8.830   V(s2) = 6.584\n",
      "\n",
      "iter   14   |   diff: 0.21124   |   V(s0) = 5.925   V(s1) = 9.065   V(s2) = 6.817\n",
      "\n",
      "iter   15   |   diff: 0.19012   |   V(s0) = 6.135   V(s1) = 9.276   V(s2) = 7.028\n",
      "\n",
      "iter   16   |   diff: 0.17091   |   V(s0) = 6.325   V(s1) = 9.465   V(s2) = 7.218\n",
      "\n",
      "iter   17   |   diff: 0.15366   |   V(s0) = 6.496   V(s1) = 9.636   V(s2) = 7.388\n",
      "\n",
      "iter   18   |   diff: 0.13830   |   V(s0) = 6.649   V(s1) = 9.790   V(s2) = 7.542\n",
      "\n",
      "iter   19   |   diff: 0.12445   |   V(s0) = 6.788   V(s1) = 9.928   V(s2) = 7.680\n",
      "\n",
      "iter   20   |   diff: 0.11200   |   V(s0) = 6.912   V(s1) = 10.052   V(s2) = 7.805\n",
      "\n",
      "iter   21   |   diff: 0.10079   |   V(s0) = 7.024   V(s1) = 10.164   V(s2) = 7.917\n",
      "\n",
      "iter   22   |   diff: 0.09071   |   V(s0) = 7.125   V(s1) = 10.265   V(s2) = 8.017\n",
      "\n",
      "iter   23   |   diff: 0.08164   |   V(s0) = 7.216   V(s1) = 10.356   V(s2) = 8.108\n",
      "\n",
      "iter   24   |   diff: 0.07347   |   V(s0) = 7.297   V(s1) = 10.437   V(s2) = 8.190\n",
      "\n",
      "iter   25   |   diff: 0.06612   |   V(s0) = 7.371   V(s1) = 10.511   V(s2) = 8.263\n",
      "\n",
      "iter   26   |   diff: 0.05951   |   V(s0) = 7.437   V(s1) = 10.577   V(s2) = 8.329\n",
      "\n",
      "iter   27   |   diff: 0.05356   |   V(s0) = 7.496   V(s1) = 10.636   V(s2) = 8.389\n",
      "\n",
      "iter   28   |   diff: 0.04820   |   V(s0) = 7.550   V(s1) = 10.690   V(s2) = 8.442\n",
      "\n",
      "iter   29   |   diff: 0.04338   |   V(s0) = 7.598   V(s1) = 10.738   V(s2) = 8.491\n",
      "\n",
      "iter   30   |   diff: 0.03904   |   V(s0) = 7.641   V(s1) = 10.782   V(s2) = 8.534\n",
      "\n",
      "iter   31   |   diff: 0.03514   |   V(s0) = 7.681   V(s1) = 10.821   V(s2) = 8.573\n",
      "\n",
      "iter   32   |   diff: 0.03163   |   V(s0) = 7.716   V(s1) = 10.856   V(s2) = 8.608\n",
      "\n",
      "iter   33   |   diff: 0.02846   |   V(s0) = 7.747   V(s1) = 10.887   V(s2) = 8.640\n",
      "\n",
      "iter   34   |   diff: 0.02562   |   V(s0) = 7.776   V(s1) = 10.916   V(s2) = 8.668\n",
      "\n",
      "iter   35   |   diff: 0.02306   |   V(s0) = 7.801   V(s1) = 10.941   V(s2) = 8.694\n",
      "\n",
      "iter   36   |   diff: 0.02075   |   V(s0) = 7.824   V(s1) = 10.964   V(s2) = 8.717\n",
      "\n",
      "iter   37   |   diff: 0.01867   |   V(s0) = 7.845   V(s1) = 10.985   V(s2) = 8.738\n",
      "\n",
      "iter   38   |   diff: 0.01681   |   V(s0) = 7.864   V(s1) = 11.004   V(s2) = 8.756\n",
      "\n",
      "iter   39   |   diff: 0.01513   |   V(s0) = 7.881   V(s1) = 11.021   V(s2) = 8.773\n",
      "\n",
      "iter   40   |   diff: 0.01361   |   V(s0) = 7.896   V(s1) = 11.036   V(s2) = 8.788\n",
      "\n",
      "iter   41   |   diff: 0.01225   |   V(s0) = 7.909   V(s1) = 11.049   V(s2) = 8.802\n",
      "\n",
      "iter   42   |   diff: 0.01103   |   V(s0) = 7.922   V(s1) = 11.062   V(s2) = 8.814\n",
      "\n",
      "iter   43   |   diff: 0.00992   |   V(s0) = 7.933   V(s1) = 11.073   V(s2) = 8.825\n",
      "\n",
      "iter   44   |   diff: 0.00893   |   V(s0) = 7.943   V(s1) = 11.083   V(s2) = 8.835\n",
      "\n",
      "iter   45   |   diff: 0.00804   |   V(s0) = 7.952   V(s1) = 11.092   V(s2) = 8.844\n",
      "\n",
      "iter   46   |   diff: 0.00724   |   V(s0) = 7.960   V(s1) = 11.100   V(s2) = 8.852\n",
      "\n",
      "iter   47   |   diff: 0.00651   |   V(s0) = 7.967   V(s1) = 11.107   V(s2) = 8.859\n",
      "\n",
      "iter   48   |   diff: 0.00586   |   V(s0) = 7.973   V(s1) = 11.113   V(s2) = 8.866\n",
      "\n",
      "iter   49   |   diff: 0.00527   |   V(s0) = 7.979   V(s1) = 11.119   V(s2) = 8.872\n",
      "\n",
      "iter   50   |   diff: 0.00475   |   V(s0) = 7.984   V(s1) = 11.125   V(s2) = 8.877\n",
      "\n",
      "iter   51   |   diff: 0.00427   |   V(s0) = 7.989   V(s1) = 11.129   V(s2) = 8.882\n",
      "\n",
      "iter   52   |   diff: 0.00384   |   V(s0) = 7.993   V(s1) = 11.134   V(s2) = 8.886\n",
      "\n",
      "iter   53   |   diff: 0.00346   |   V(s0) = 7.997   V(s1) = 11.137   V(s2) = 8.890\n",
      "\n",
      "iter   54   |   diff: 0.00311   |   V(s0) = 8.001   V(s1) = 11.141   V(s2) = 8.893\n",
      "\n",
      "iter   55   |   diff: 0.00280   |   V(s0) = 8.004   V(s1) = 11.144   V(s2) = 8.896\n",
      "\n",
      "iter   56   |   diff: 0.00252   |   V(s0) = 8.007   V(s1) = 11.147   V(s2) = 8.899\n",
      "\n",
      "iter   57   |   diff: 0.00227   |   V(s0) = 8.009   V(s1) = 11.149   V(s2) = 8.902\n",
      "\n",
      "iter   58   |   diff: 0.00204   |   V(s0) = 8.011   V(s1) = 11.152   V(s2) = 8.904\n",
      "\n",
      "iter   59   |   diff: 0.00184   |   V(s0) = 8.014   V(s1) = 11.154   V(s2) = 8.906\n",
      "\n",
      "iter   60   |   diff: 0.00166   |   V(s0) = 8.015   V(s1) = 11.155   V(s2) = 8.908\n",
      "\n",
      "iter   61   |   diff: 0.00149   |   V(s0) = 8.017   V(s1) = 11.157   V(s2) = 8.909\n",
      "\n",
      "iter   62   |   diff: 0.00134   |   V(s0) = 8.019   V(s1) = 11.159   V(s2) = 8.911\n",
      "\n",
      "iter   63   |   diff: 0.00121   |   V(s0) = 8.020   V(s1) = 11.160   V(s2) = 8.912\n",
      "\n",
      "iter   64   |   diff: 0.00109   |   V(s0) = 8.021   V(s1) = 11.161   V(s2) = 8.913\n",
      "\n",
      "iter   65   |   diff: 0.00098   |   V(s0) = 8.022   V(s1) = 11.162   V(s2) = 8.915\n",
      "\n",
      "Terminated\n"
     ]
    }
   ],
   "source": [
    "# parameters\n",
    "gamma = 0.9            # discount for MDP\n",
    "num_iter = 100         # maximum iterations, excluding initialization\n",
    "# stop VI if new values are this close to old values (or closer)\n",
    "min_difference = 0.001\n",
    "\n",
    "# initialize V(s)\n",
    "state_values = {s: 0 for s in mdp.get_all_states()}\n",
    "\n",
    "if has_graphviz:\n",
    "    display(plot_graph_with_state_values(mdp, state_values))\n",
    "\n",
    "for i in range(num_iter):\n",
    "\n",
    "    # Compute new state values using the functions you defined above.\n",
    "    # It must be a dict {state : float V_new(state)}\n",
    "    new_state_values = {s: get_new_state_value(mdp, state_values, s, gamma) for s in mdp.get_all_states()}  #<YOUR CODE HERE >\n",
    "\n",
    "    assert isinstance(new_state_values, dict)\n",
    "\n",
    "    # Compute difference\n",
    "    diff = max(abs(new_state_values[s] - state_values[s])\n",
    "               for s in mdp.get_all_states())\n",
    "    print(\"iter %4i   |   diff: %6.5f   |   \" % (i, diff), end=\"\")\n",
    "    print('   '.join(\"V(%s) = %.3f\" % (s, v)\n",
    "                     for s, v in state_values.items()), end='\\n\\n')\n",
    "    state_values = new_state_values\n",
    "\n",
    "    if diff < min_difference:\n",
    "        print(\"Terminated\")\n",
    "        break"
   ]
  },
  {
   "cell_type": "code",
   "execution_count": 11,
   "metadata": {},
   "outputs": [
    {
     "data": {
      "image/svg+xml": [
       "<?xml version=\"1.0\" encoding=\"UTF-8\" standalone=\"no\"?>\n",
       "<!DOCTYPE svg PUBLIC \"-//W3C//DTD SVG 1.1//EN\"\n",
       " \"http://www.w3.org/Graphics/SVG/1.1/DTD/svg11.dtd\">\n",
       "<!-- Generated by graphviz version 2.38.0 (20140413.2041)\n",
       " -->\n",
       "<!-- Title: MDP Pages: 1 -->\n",
       "<svg width=\"720pt\" height=\"173pt\"\n",
       " viewBox=\"0.00 0.00 720.00 173.29\" xmlns=\"http://www.w3.org/2000/svg\" xmlns:xlink=\"http://www.w3.org/1999/xlink\">\n",
       "<g id=\"graph0\" class=\"graph\" transform=\"scale(0.583483 0.583483) rotate(0) translate(4 293)\">\n",
       "<title>MDP</title>\n",
       "<polygon fill=\"white\" stroke=\"none\" points=\"-4,4 -4,-293 1229.97,-293 1229.97,4 -4,4\"/>\n",
       "<!-- s0 -->\n",
       "<g id=\"node1\" class=\"node\"><title>s0</title>\n",
       "<ellipse fill=\"lightgreen\" stroke=\"lightgreen\" cx=\"75.4178\" cy=\"-114\" rx=\"71.34\" ry=\"71.34\"/>\n",
       "<ellipse fill=\"none\" stroke=\"lightgreen\" cx=\"75.4178\" cy=\"-114\" rx=\"75.3357\" ry=\"75.3357\"/>\n",
       "<text text-anchor=\"middle\" x=\"75.4178\" y=\"-120.8\" font-family=\"Arial\" font-size=\"24.00\">s0</text>\n",
       "<text text-anchor=\"middle\" x=\"75.4178\" y=\"-94.8\" font-family=\"Arial\" font-size=\"24.00\">V =8.02</text>\n",
       "</g>\n",
       "<!-- s0&#45;a0 -->\n",
       "<g id=\"node2\" class=\"node\"><title>s0&#45;a0</title>\n",
       "<ellipse fill=\"lightpink\" stroke=\"lightpink\" cx=\"263.413\" cy=\"-158\" rx=\"27.6545\" ry=\"27.6545\"/>\n",
       "<text text-anchor=\"middle\" x=\"263.413\" y=\"-153\" font-family=\"Arial\" font-size=\"20.00\">a0</text>\n",
       "</g>\n",
       "<!-- s0&#45;&gt;s0&#45;a0 -->\n",
       "<g id=\"edge1\" class=\"edge\"><title>s0&#45;&gt;s0&#45;a0</title>\n",
       "<path fill=\"none\" stroke=\"red\" stroke-width=\"2\" d=\"M150.026,-125.52C172.025,-129.642 196.074,-134.825 217.836,-141 221.205,-141.956 224.677,-143.06 228.126,-144.237\"/>\n",
       "<polygon fill=\"red\" stroke=\"red\" stroke-width=\"2\" points=\"227.088,-147.583 237.682,-147.685 229.463,-140.999 227.088,-147.583\"/>\n",
       "</g>\n",
       "<!-- s0&#45;a1 -->\n",
       "<g id=\"node4\" class=\"node\"><title>s0&#45;a1</title>\n",
       "<ellipse fill=\"lightpink\" stroke=\"lightpink\" cx=\"263.413\" cy=\"-231\" rx=\"27.6545\" ry=\"27.6545\"/>\n",
       "<text text-anchor=\"middle\" x=\"263.413\" y=\"-226\" font-family=\"Arial\" font-size=\"20.00\">a1</text>\n",
       "</g>\n",
       "<!-- s0&#45;&gt;s0&#45;a1 -->\n",
       "<g id=\"edge4\" class=\"edge\"><title>s0&#45;&gt;s0&#45;a1</title>\n",
       "<path fill=\"none\" stroke=\"red\" stroke-width=\"2\" d=\"M139.647,-153.774C170.411,-173.127 206.035,-195.535 230.957,-211.213\"/>\n",
       "<polygon fill=\"red\" stroke=\"red\" stroke-width=\"2\" points=\"229.298,-214.304 239.626,-216.666 233.026,-208.379 229.298,-214.304\"/>\n",
       "</g>\n",
       "<!-- s0&#45;a0&#45;&gt;s0 -->\n",
       "<g id=\"edge2\" class=\"edge\"><title>s0&#45;a0&#45;&gt;s0</title>\n",
       "<path fill=\"none\" stroke=\"blue\" stroke-dasharray=\"5,2\" d=\"M236.126,-152.701C217.333,-148.834 191.469,-143.355 168.836,-138 165.425,-137.193 161.948,-136.356 158.438,-135.499\"/>\n",
       "<polygon fill=\"blue\" stroke=\"blue\" points=\"159.036,-132.041 148.488,-133.039 157.356,-138.837 159.036,-132.041\"/>\n",
       "<text text-anchor=\"middle\" x=\"193.336\" y=\"-154.2\" font-family=\"Arial\" font-size=\"16.00\">p = 0.5</text>\n",
       "</g>\n",
       "<!-- s2 -->\n",
       "<g id=\"node3\" class=\"node\"><title>s2</title>\n",
       "<ellipse fill=\"lightgreen\" stroke=\"lightgreen\" cx=\"536.408\" cy=\"-205\" rx=\"71.34\" ry=\"71.34\"/>\n",
       "<ellipse fill=\"none\" stroke=\"lightgreen\" cx=\"536.408\" cy=\"-205\" rx=\"75.3357\" ry=\"75.3357\"/>\n",
       "<text text-anchor=\"middle\" x=\"536.408\" y=\"-211.8\" font-family=\"Arial\" font-size=\"24.00\">s2</text>\n",
       "<text text-anchor=\"middle\" x=\"536.408\" y=\"-185.8\" font-family=\"Arial\" font-size=\"24.00\">V =8.91</text>\n",
       "</g>\n",
       "<!-- s0&#45;a0&#45;&gt;s2 -->\n",
       "<g id=\"edge3\" class=\"edge\"><title>s0&#45;a0&#45;&gt;s2</title>\n",
       "<path fill=\"none\" stroke=\"blue\" stroke-dasharray=\"5,2\" d=\"M290.89,-162.592C327.877,-169.007 396.679,-180.94 451.901,-190.517\"/>\n",
       "<polygon fill=\"blue\" stroke=\"blue\" points=\"451.592,-194.016 462.043,-192.276 452.788,-187.119 451.592,-194.016\"/>\n",
       "<text text-anchor=\"middle\" x=\"375.99\" y=\"-194.2\" font-family=\"Arial\" font-size=\"16.00\">p = 0.5</text>\n",
       "</g>\n",
       "<!-- s2&#45;a0 -->\n",
       "<g id=\"node8\" class=\"node\"><title>s2&#45;a0</title>\n",
       "<ellipse fill=\"lightpink\" stroke=\"lightpink\" cx=\"804.403\" cy=\"-150\" rx=\"27.6545\" ry=\"27.6545\"/>\n",
       "<text text-anchor=\"middle\" x=\"804.403\" y=\"-145\" font-family=\"Arial\" font-size=\"20.00\">a0</text>\n",
       "</g>\n",
       "<!-- s2&#45;&gt;s2&#45;a0 -->\n",
       "<g id=\"edge13\" class=\"edge\"><title>s2&#45;&gt;s2&#45;a0</title>\n",
       "<path fill=\"none\" stroke=\"red\" stroke-width=\"2\" d=\"M610.634,-191.321C653.855,-183.03 709.571,-171.965 758.825,-161 761.67,-160.367 764.612,-159.69 767.564,-158.995\"/>\n",
       "<polygon fill=\"red\" stroke=\"red\" stroke-width=\"2\" points=\"768.617,-162.342 777.521,-156.599 766.98,-155.536 768.617,-162.342\"/>\n",
       "</g>\n",
       "<!-- s2&#45;a1 -->\n",
       "<g id=\"node9\" class=\"node\"><title>s2&#45;a1</title>\n",
       "<ellipse fill=\"lightpink\" stroke=\"lightpink\" cx=\"804.403\" cy=\"-77\" rx=\"27.6545\" ry=\"27.6545\"/>\n",
       "<text text-anchor=\"middle\" x=\"804.403\" y=\"-72\" font-family=\"Arial\" font-size=\"20.00\">a1</text>\n",
       "</g>\n",
       "<!-- s2&#45;&gt;s2&#45;a1 -->\n",
       "<g id=\"edge16\" class=\"edge\"><title>s2&#45;&gt;s2&#45;a1</title>\n",
       "<path fill=\"none\" stroke=\"red\" stroke-width=\"2\" d=\"M587.244,-148.408C600.084,-136.558 614.608,-125.189 629.825,-117 673.2,-93.658 729.793,-83.8775 766.367,-79.8191\"/>\n",
       "<polygon fill=\"red\" stroke=\"red\" stroke-width=\"2\" points=\"766.987,-83.274 776.58,-78.7769 766.276,-76.3102 766.987,-83.274\"/>\n",
       "</g>\n",
       "<!-- s0&#45;a1&#45;&gt;s2 -->\n",
       "<g id=\"edge5\" class=\"edge\"><title>s0&#45;a1&#45;&gt;s2</title>\n",
       "<path fill=\"none\" stroke=\"blue\" stroke-dasharray=\"5,2\" d=\"M290.89,-228.46C327.689,-224.929 395.98,-218.377 451.058,-213.093\"/>\n",
       "<polygon fill=\"blue\" stroke=\"blue\" points=\"451.557,-216.561 461.177,-212.122 450.889,-209.593 451.557,-216.561\"/>\n",
       "<text text-anchor=\"middle\" x=\"375.99\" y=\"-232.2\" font-family=\"Arial\" font-size=\"16.00\">p = 1</text>\n",
       "</g>\n",
       "<!-- s1 -->\n",
       "<g id=\"node5\" class=\"node\"><title>s1</title>\n",
       "<ellipse fill=\"lightgreen\" stroke=\"lightgreen\" cx=\"1001.4\" cy=\"-103\" rx=\"71.34\" ry=\"71.34\"/>\n",
       "<ellipse fill=\"none\" stroke=\"lightgreen\" cx=\"1001.4\" cy=\"-103\" rx=\"75.3357\" ry=\"75.3357\"/>\n",
       "<text text-anchor=\"middle\" x=\"1001.4\" y=\"-109.8\" font-family=\"Arial\" font-size=\"24.00\">s1</text>\n",
       "<text text-anchor=\"middle\" x=\"1001.4\" y=\"-83.8\" font-family=\"Arial\" font-size=\"24.00\">V =11.1</text>\n",
       "</g>\n",
       "<!-- s1&#45;a0 -->\n",
       "<g id=\"node6\" class=\"node\"><title>s1&#45;a0</title>\n",
       "<ellipse fill=\"lightpink\" stroke=\"lightpink\" cx=\"1198.39\" cy=\"-79\" rx=\"27.6545\" ry=\"27.6545\"/>\n",
       "<text text-anchor=\"middle\" x=\"1198.39\" y=\"-74\" font-family=\"Arial\" font-size=\"20.00\">a0</text>\n",
       "</g>\n",
       "<!-- s1&#45;&gt;s1&#45;a0 -->\n",
       "<g id=\"edge6\" class=\"edge\"><title>s1&#45;&gt;s1&#45;a0</title>\n",
       "<path fill=\"none\" stroke=\"red\" stroke-width=\"2\" d=\"M1076.84,-97.9679C1101.15,-95.82 1128.21,-92.8894 1152.82,-89 1155.51,-88.5736 1158.29,-88.081 1161.08,-87.5477\"/>\n",
       "<polygon fill=\"red\" stroke=\"red\" stroke-width=\"2\" points=\"1162.01,-90.9295 1171.1,-85.4837 1160.6,-84.0735 1162.01,-90.9295\"/>\n",
       "</g>\n",
       "<!-- s1&#45;a1 -->\n",
       "<g id=\"node7\" class=\"node\"><title>s1&#45;a1</title>\n",
       "<ellipse fill=\"lightpink\" stroke=\"lightpink\" cx=\"1198.39\" cy=\"-161\" rx=\"27.6545\" ry=\"27.6545\"/>\n",
       "<text text-anchor=\"middle\" x=\"1198.39\" y=\"-156\" font-family=\"Arial\" font-size=\"20.00\">a1</text>\n",
       "</g>\n",
       "<!-- s1&#45;&gt;s1&#45;a1 -->\n",
       "<g id=\"edge10\" class=\"edge\"><title>s1&#45;&gt;s1&#45;a1</title>\n",
       "<path fill=\"none\" stroke=\"red\" stroke-width=\"2\" d=\"M1075.35,-119.585C1100.17,-125.841 1127.92,-133.519 1152.82,-142 1156.37,-143.21 1160.04,-144.576 1163.67,-146.006\"/>\n",
       "<polygon fill=\"red\" stroke=\"red\" stroke-width=\"2\" points=\"1162.54,-149.325 1173.12,-149.88 1165.2,-142.848 1162.54,-149.325\"/>\n",
       "</g>\n",
       "<!-- s1&#45;a0&#45;&gt;s0 -->\n",
       "<g id=\"edge7\" class=\"edge\"><title>s1&#45;a0&#45;&gt;s0</title>\n",
       "<path fill=\"none\" stroke=\"blue\" stroke-dasharray=\"5,2\" d=\"M1175.46,-63.5805C1140.55,-40.59 1069.42,-0 1002.4,-0 262.413,-0 262.413,-0 262.413,-0 215.779,-0 170.978,-26.3721 137.034,-53.7478\"/>\n",
       "<polygon fill=\"blue\" stroke=\"blue\" points=\"134.549,-51.2615 129.084,-60.3381 139.016,-56.6505 134.549,-51.2615\"/>\n",
       "<text text-anchor=\"middle\" x=\"694.325\" y=\"-5.2\" font-family=\"Arial\" font-size=\"16.00\">p = 0.7 &#160;reward =5</text>\n",
       "</g>\n",
       "<!-- s1&#45;a0&#45;&gt;s2 -->\n",
       "<g id=\"edge9\" class=\"edge\"><title>s1&#45;a0&#45;&gt;s2</title>\n",
       "<path fill=\"none\" stroke=\"blue\" stroke-dasharray=\"5,2\" d=\"M1182.69,-101.877C1178.55,-108.827 1174.24,-116.589 1170.82,-124 1160.55,-146.196 1171.67,-160.42 1152.82,-176 1074.18,-240.983 771.08,-225.23 621.66,-212.975\"/>\n",
       "<polygon fill=\"blue\" stroke=\"blue\" points=\"621.864,-209.48 611.608,-212.137 621.283,-216.456 621.864,-209.48\"/>\n",
       "<text text-anchor=\"middle\" x=\"878.98\" y=\"-230.2\" font-family=\"Arial\" font-size=\"16.00\">p = 0.2</text>\n",
       "</g>\n",
       "<!-- s1&#45;a0&#45;&gt;s1 -->\n",
       "<g id=\"edge8\" class=\"edge\"><title>s1&#45;a0&#45;&gt;s1</title>\n",
       "<path fill=\"none\" stroke=\"blue\" stroke-dasharray=\"5,2\" d=\"M1171.7,-70.8519C1165.57,-69.2537 1159.01,-67.8196 1152.82,-67 1127.26,-63.6205 1120.15,-62.2399 1094.82,-67 1090.09,-67.8873 1085.3,-69.009 1080.51,-70.3034\"/>\n",
       "<polygon fill=\"blue\" stroke=\"blue\" points=\"1079.32,-67.0064 1070.71,-73.183 1081.29,-73.7226 1079.32,-67.0064\"/>\n",
       "<text text-anchor=\"middle\" x=\"1123.82\" y=\"-72.2\" font-family=\"Arial\" font-size=\"16.00\">p = 0.1</text>\n",
       "</g>\n",
       "<!-- s1&#45;a1&#45;&gt;s2 -->\n",
       "<g id=\"edge12\" class=\"edge\"><title>s1&#45;a1&#45;&gt;s2</title>\n",
       "<path fill=\"none\" stroke=\"blue\" stroke-dasharray=\"5,2\" d=\"M1185.73,-185.501C1178.25,-198.236 1167.22,-212.644 1152.82,-220 979.515,-308.486 741.436,-263.521 618.379,-230.17\"/>\n",
       "<polygon fill=\"blue\" stroke=\"blue\" points=\"619.208,-226.768 608.638,-227.489 617.351,-233.517 619.208,-226.768\"/>\n",
       "<text text-anchor=\"middle\" x=\"878.98\" y=\"-276.2\" font-family=\"Arial\" font-size=\"16.00\">p = 0.05</text>\n",
       "</g>\n",
       "<!-- s1&#45;a1&#45;&gt;s1 -->\n",
       "<g id=\"edge11\" class=\"edge\"><title>s1&#45;a1&#45;&gt;s1</title>\n",
       "<path fill=\"none\" stroke=\"blue\" stroke-dasharray=\"5,2\" d=\"M1170.96,-156.536C1150.07,-152.72 1120.29,-146.639 1094.82,-139 1090.26,-137.634 1085.62,-136.145 1080.95,-134.573\"/>\n",
       "<polygon fill=\"blue\" stroke=\"blue\" points=\"1081.96,-131.22 1071.37,-131.247 1079.67,-137.833 1081.96,-131.22\"/>\n",
       "<text text-anchor=\"middle\" x=\"1123.82\" y=\"-159.2\" font-family=\"Arial\" font-size=\"16.00\">p = 0.95</text>\n",
       "</g>\n",
       "<!-- s2&#45;a0&#45;&gt;s0 -->\n",
       "<g id=\"edge14\" class=\"edge\"><title>s2&#45;a0&#45;&gt;s0</title>\n",
       "<path fill=\"none\" stroke=\"blue\" stroke-dasharray=\"5,2\" d=\"M784.185,-130.996C776.86,-125.001 768.042,-119.129 758.825,-116 650.696,-79.2935 318.48,-96.7328 160.961,-107.587\"/>\n",
       "<polygon fill=\"blue\" stroke=\"blue\" points=\"160.574,-104.106 150.842,-108.292 161.061,-111.089 160.574,-104.106\"/>\n",
       "<text text-anchor=\"middle\" x=\"375.99\" y=\"-104.2\" font-family=\"Arial\" font-size=\"16.00\">p = 0.4</text>\n",
       "</g>\n",
       "<!-- s2&#45;a0&#45;&gt;s1 -->\n",
       "<g id=\"edge15\" class=\"edge\"><title>s2&#45;a0&#45;&gt;s1</title>\n",
       "<path fill=\"none\" stroke=\"blue\" stroke-dasharray=\"5,2\" d=\"M831.296,-143.759C853.452,-138.419 886.601,-130.429 917.694,-122.934\"/>\n",
       "<polygon fill=\"blue\" stroke=\"blue\" points=\"918.799,-126.268 927.701,-120.522 917.159,-119.463 918.799,-126.268\"/>\n",
       "<text text-anchor=\"middle\" x=\"878.98\" y=\"-144.2\" font-family=\"Arial\" font-size=\"16.00\">p = 0.6</text>\n",
       "</g>\n",
       "<!-- s2&#45;a1&#45;&gt;s0 -->\n",
       "<g id=\"edge17\" class=\"edge\"><title>s2&#45;a1&#45;&gt;s0</title>\n",
       "<path fill=\"none\" stroke=\"blue\" stroke-dasharray=\"5,2\" d=\"M776.803,-75.0086C702.596,-69.8362 487.068,-57.4234 308.99,-73 258.867,-77.3843 203.355,-86.9868 159.138,-95.7971\"/>\n",
       "<polygon fill=\"blue\" stroke=\"blue\" points=\"158.418,-92.3719 149.307,-97.7799 159.802,-99.2337 158.418,-92.3719\"/>\n",
       "<text text-anchor=\"middle\" x=\"375.99\" y=\"-78.2\" font-family=\"Arial\" font-size=\"16.00\">p = 0.3 &#160;reward =&#45;1</text>\n",
       "</g>\n",
       "<!-- s2&#45;a1&#45;&gt;s2 -->\n",
       "<g id=\"edge19\" class=\"edge\"><title>s2&#45;a1&#45;&gt;s2</title>\n",
       "<path fill=\"none\" stroke=\"blue\" stroke-dasharray=\"5,2\" d=\"M783.948,-96.1007C776.601,-102.353 767.829,-108.771 758.825,-113 705.888,-137.865 683.476,-115.712 629.825,-139 621.168,-142.758 612.516,-147.419 604.171,-152.512\"/>\n",
       "<polygon fill=\"blue\" stroke=\"blue\" points=\"602.163,-149.642 595.599,-157.958 605.916,-155.55 602.163,-149.642\"/>\n",
       "<text text-anchor=\"middle\" x=\"694.325\" y=\"-144.2\" font-family=\"Arial\" font-size=\"16.00\">p = 0.4</text>\n",
       "</g>\n",
       "<!-- s2&#45;a1&#45;&gt;s1 -->\n",
       "<g id=\"edge18\" class=\"edge\"><title>s2&#45;a1&#45;&gt;s1</title>\n",
       "<path fill=\"none\" stroke=\"blue\" stroke-dasharray=\"5,2\" d=\"M832.107,-80.5607C853.942,-83.4721 886.054,-87.7538 916.39,-91.7987\"/>\n",
       "<polygon fill=\"blue\" stroke=\"blue\" points=\"916.218,-95.3066 926.593,-93.1591 917.143,-88.368 916.218,-95.3066\"/>\n",
       "<text text-anchor=\"middle\" x=\"878.98\" y=\"-96.2\" font-family=\"Arial\" font-size=\"16.00\">p = 0.3</text>\n",
       "</g>\n",
       "</g>\n",
       "</svg>\n"
      ],
      "text/plain": [
       "<graphviz.dot.Digraph at 0x7f0243f785f8>"
      ]
     },
     "metadata": {},
     "output_type": "display_data"
    },
    {
     "data": {
      "text/plain": [
       "None"
      ]
     },
     "metadata": {},
     "output_type": "display_data"
    }
   ],
   "source": [
    "if has_graphviz:\n",
    "    display(plot_graph_with_state_values(mdp, state_values))"
   ]
  },
  {
   "cell_type": "code",
   "execution_count": 12,
   "metadata": {
    "ExecuteTime": {
     "end_time": "2018-04-02T13:43:17.106395Z",
     "start_time": "2018-04-02T13:43:05.522Z"
    }
   },
   "outputs": [
    {
     "name": "stdout",
     "output_type": "stream",
     "text": [
      "Final state values: {'s0': 8.023123818663871, 's1': 11.163174814980803, 's2': 8.915559364985523}\n"
     ]
    }
   ],
   "source": [
    "print(\"Final state values:\", state_values)\n",
    "\n",
    "assert abs(state_values['s0'] - 8.032) < 0.01\n",
    "assert abs(state_values['s1'] - 11.169) < 0.01\n",
    "assert abs(state_values['s2'] - 8.921) < 0.01"
   ]
  },
  {
   "cell_type": "markdown",
   "metadata": {},
   "source": [
    "Now let's use those $V^{*}(s)$ to find optimal actions in each state\n",
    "\n",
    " $$\\pi^*(s) = argmax_a \\sum_{s'} P(s' | s,a) \\cdot [ r(s,a,s') + \\gamma V_{i}(s')] = argmax_a Q_i(s,a)$$\n",
    " \n",
    "The only difference vs V(s) is that here we take not max but argmax: find action such with maximum Q(s,a)."
   ]
  },
  {
   "cell_type": "code",
   "execution_count": 13,
   "metadata": {
    "ExecuteTime": {
     "end_time": "2018-04-02T13:43:17.107338Z",
     "start_time": "2018-04-02T13:43:05.525Z"
    }
   },
   "outputs": [],
   "source": [
    "def get_optimal_action(mdp, state_values, state, gamma=0.9):\n",
    "    \"\"\" Finds optimal action using formula above. \"\"\"\n",
    "    if mdp.is_terminal(state):\n",
    "        return None\n",
    "\n",
    "    optimal_policy = np.argmax([get_action_value(mdp, state_values, state, a, gamma) \n",
    "                                for a in mdp.get_possible_actions(state)])\n",
    "\n",
    "    return mdp.get_possible_actions(state)[optimal_policy]"
   ]
  },
  {
   "cell_type": "code",
   "execution_count": 14,
   "metadata": {
    "ExecuteTime": {
     "end_time": "2018-04-02T13:43:17.108149Z",
     "start_time": "2018-04-02T13:43:05.530Z"
    }
   },
   "outputs": [
    {
     "data": {
      "image/svg+xml": [
       "<?xml version=\"1.0\" encoding=\"UTF-8\" standalone=\"no\"?>\n",
       "<!DOCTYPE svg PUBLIC \"-//W3C//DTD SVG 1.1//EN\"\n",
       " \"http://www.w3.org/Graphics/SVG/1.1/DTD/svg11.dtd\">\n",
       "<!-- Generated by graphviz version 2.38.0 (20140413.2041)\n",
       " -->\n",
       "<!-- Title: MDP Pages: 1 -->\n",
       "<svg width=\"720pt\" height=\"172pt\"\n",
       " viewBox=\"0.00 0.00 720.00 171.54\" xmlns=\"http://www.w3.org/2000/svg\" xmlns:xlink=\"http://www.w3.org/1999/xlink\">\n",
       "<g id=\"graph0\" class=\"graph\" transform=\"scale(0.583483 0.583483) rotate(0) translate(4 290)\">\n",
       "<title>MDP</title>\n",
       "<polygon fill=\"white\" stroke=\"none\" points=\"-4,4 -4,-290 1229.97,-290 1229.97,4 -4,4\"/>\n",
       "<!-- s0 -->\n",
       "<g id=\"node1\" class=\"node\"><title>s0</title>\n",
       "<ellipse fill=\"lightgreen\" stroke=\"lightgreen\" cx=\"75.4178\" cy=\"-117\" rx=\"71.34\" ry=\"71.34\"/>\n",
       "<ellipse fill=\"none\" stroke=\"lightgreen\" cx=\"75.4178\" cy=\"-117\" rx=\"75.3357\" ry=\"75.3357\"/>\n",
       "<text text-anchor=\"middle\" x=\"75.4178\" y=\"-123.8\" font-family=\"Arial\" font-size=\"24.00\">s0</text>\n",
       "<text text-anchor=\"middle\" x=\"75.4178\" y=\"-97.8\" font-family=\"Arial\" font-size=\"24.00\">V =8.02</text>\n",
       "</g>\n",
       "<!-- s0&#45;a0 -->\n",
       "<g id=\"node2\" class=\"node\"><title>s0&#45;a0</title>\n",
       "<ellipse fill=\"lightpink\" stroke=\"lightpink\" cx=\"263.413\" cy=\"-148\" rx=\"27.6545\" ry=\"27.6545\"/>\n",
       "<text text-anchor=\"middle\" x=\"263.413\" y=\"-143\" font-family=\"Arial\" font-size=\"20.00\">a0</text>\n",
       "</g>\n",
       "<!-- s0&#45;&gt;s0&#45;a0 -->\n",
       "<g id=\"edge1\" class=\"edge\"><title>s0&#45;&gt;s0&#45;a0</title>\n",
       "<path fill=\"none\" stroke=\"red\" stroke-width=\"2\" d=\"M150.793,-120.634C172.594,-122.699 196.343,-125.934 217.836,-131 221.244,-131.804 224.743,-132.805 228.209,-133.918\"/>\n",
       "<polygon fill=\"red\" stroke=\"red\" stroke-width=\"2\" points=\"227.194,-137.271 237.788,-137.275 229.509,-130.665 227.194,-137.271\"/>\n",
       "</g>\n",
       "<!-- s0&#45;a1 -->\n",
       "<g id=\"node4\" class=\"node\"><title>s0&#45;a1</title>\n",
       "<ellipse fill=\"lightpink\" stroke=\"lightpink\" cx=\"263.413\" cy=\"-221\" rx=\"27.6545\" ry=\"27.6545\"/>\n",
       "<text text-anchor=\"middle\" x=\"263.413\" y=\"-216\" font-family=\"Arial\" font-size=\"20.00\">a1</text>\n",
       "</g>\n",
       "<!-- s0&#45;&gt;s0&#45;a1 -->\n",
       "<g id=\"edge4\" class=\"edge\"><title>s0&#45;&gt;s0&#45;a1</title>\n",
       "<path fill=\"none\" stroke=\"red\" stroke-width=\"2\" d=\"M144.092,-148.318C174.486,-164.754 208.786,-184.404 232.6,-199.219\"/>\n",
       "<polygon fill=\"red\" stroke=\"red\" stroke-width=\"2\" points=\"230.86,-202.26 241.183,-204.644 234.6,-196.343 230.86,-202.26\"/>\n",
       "</g>\n",
       "<!-- s0&#45;&gt;s0&#45;a1 -->\n",
       "<g id=\"edge20\" class=\"edge\"><title>s0&#45;&gt;s0&#45;a1</title>\n",
       "<path fill=\"none\" stroke=\"green\" stroke-width=\"6\" d=\"M138.61,-158.185C168.388,-175.517 202.917,-194.482 227.932,-207.104\"/>\n",
       "<polygon fill=\"green\" stroke=\"green\" stroke-width=\"6\" points=\"225.732,-211.873 237.024,-211.614 230.399,-202.467 225.732,-211.873\"/>\n",
       "</g>\n",
       "<!-- s0&#45;a0&#45;&gt;s0 -->\n",
       "<g id=\"edge2\" class=\"edge\"><title>s0&#45;a0&#45;&gt;s0</title>\n",
       "<path fill=\"none\" stroke=\"blue\" stroke-dasharray=\"5,2\" d=\"M235.746,-143.555C215.78,-140.228 187.308,-135.482 159.942,-130.921\"/>\n",
       "<polygon fill=\"blue\" stroke=\"blue\" points=\"160.367,-127.444 149.928,-129.252 159.216,-134.349 160.367,-127.444\"/>\n",
       "<text text-anchor=\"middle\" x=\"193.336\" y=\"-146.2\" font-family=\"Arial\" font-size=\"16.00\">p = 0.5</text>\n",
       "</g>\n",
       "<!-- s2 -->\n",
       "<g id=\"node3\" class=\"node\"><title>s2</title>\n",
       "<ellipse fill=\"lightgreen\" stroke=\"lightgreen\" cx=\"536.408\" cy=\"-195\" rx=\"71.34\" ry=\"71.34\"/>\n",
       "<ellipse fill=\"none\" stroke=\"lightgreen\" cx=\"536.408\" cy=\"-195\" rx=\"75.3357\" ry=\"75.3357\"/>\n",
       "<text text-anchor=\"middle\" x=\"536.408\" y=\"-201.8\" font-family=\"Arial\" font-size=\"24.00\">s2</text>\n",
       "<text text-anchor=\"middle\" x=\"536.408\" y=\"-175.8\" font-family=\"Arial\" font-size=\"24.00\">V =8.91</text>\n",
       "</g>\n",
       "<!-- s0&#45;a0&#45;&gt;s2 -->\n",
       "<g id=\"edge3\" class=\"edge\"><title>s0&#45;a0&#45;&gt;s2</title>\n",
       "<path fill=\"none\" stroke=\"blue\" stroke-dasharray=\"5,2\" d=\"M290.89,-152.592C327.877,-159.007 396.679,-170.94 451.901,-180.517\"/>\n",
       "<polygon fill=\"blue\" stroke=\"blue\" points=\"451.592,-184.016 462.043,-182.276 452.788,-177.119 451.592,-184.016\"/>\n",
       "<text text-anchor=\"middle\" x=\"375.99\" y=\"-184.2\" font-family=\"Arial\" font-size=\"16.00\">p = 0.5</text>\n",
       "</g>\n",
       "<!-- s2&#45;a0 -->\n",
       "<g id=\"node8\" class=\"node\"><title>s2&#45;a0</title>\n",
       "<ellipse fill=\"lightpink\" stroke=\"lightpink\" cx=\"804.403\" cy=\"-148\" rx=\"27.6545\" ry=\"27.6545\"/>\n",
       "<text text-anchor=\"middle\" x=\"804.403\" y=\"-143\" font-family=\"Arial\" font-size=\"20.00\">a0</text>\n",
       "</g>\n",
       "<!-- s2&#45;&gt;s2&#45;a0 -->\n",
       "<g id=\"edge13\" class=\"edge\"><title>s2&#45;&gt;s2&#45;a0</title>\n",
       "<path fill=\"none\" stroke=\"red\" stroke-width=\"2\" d=\"M609.741,-176.137C660.439,-165.981 726.105,-154.792 766.467,-149.684\"/>\n",
       "<polygon fill=\"red\" stroke=\"red\" stroke-width=\"2\" points=\"767.139,-153.128 776.653,-148.465 766.308,-146.178 767.139,-153.128\"/>\n",
       "</g>\n",
       "<!-- s2&#45;&gt;s2&#45;a0 -->\n",
       "<g id=\"edge22\" class=\"edge\"><title>s2&#45;&gt;s2&#45;a0</title>\n",
       "<path fill=\"none\" stroke=\"green\" stroke-width=\"6\" d=\"M611.856,-187.977C663.037,-180.088 728.672,-168.029 768.307,-158.949\"/>\n",
       "<polygon fill=\"green\" stroke=\"green\" stroke-width=\"6\" points=\"769.515,-164.059 778.04,-156.651 767.101,-153.84 769.515,-164.059\"/>\n",
       "</g>\n",
       "<!-- s2&#45;a1 -->\n",
       "<g id=\"node9\" class=\"node\"><title>s2&#45;a1</title>\n",
       "<ellipse fill=\"lightpink\" stroke=\"lightpink\" cx=\"804.403\" cy=\"-73\" rx=\"27.6545\" ry=\"27.6545\"/>\n",
       "<text text-anchor=\"middle\" x=\"804.403\" y=\"-68\" font-family=\"Arial\" font-size=\"20.00\">a1</text>\n",
       "</g>\n",
       "<!-- s2&#45;&gt;s2&#45;a1 -->\n",
       "<g id=\"edge16\" class=\"edge\"><title>s2&#45;&gt;s2&#45;a1</title>\n",
       "<path fill=\"none\" stroke=\"red\" stroke-width=\"2\" d=\"M587.17,-138.755C600.013,-127.052 614.557,-115.893 629.825,-108 673.322,-85.5158 729.886,-77.4613 766.419,-74.5845\"/>\n",
       "<polygon fill=\"red\" stroke=\"red\" stroke-width=\"2\" points=\"766.887,-78.0605 776.621,-73.875 766.402,-71.0773 766.887,-78.0605\"/>\n",
       "</g>\n",
       "<!-- s0&#45;a1&#45;&gt;s2 -->\n",
       "<g id=\"edge5\" class=\"edge\"><title>s0&#45;a1&#45;&gt;s2</title>\n",
       "<path fill=\"none\" stroke=\"blue\" stroke-dasharray=\"5,2\" d=\"M290.89,-218.46C327.689,-214.929 395.98,-208.377 451.058,-203.093\"/>\n",
       "<polygon fill=\"blue\" stroke=\"blue\" points=\"451.557,-206.561 461.177,-202.122 450.889,-199.593 451.557,-206.561\"/>\n",
       "<text text-anchor=\"middle\" x=\"375.99\" y=\"-222.2\" font-family=\"Arial\" font-size=\"16.00\">p = 1</text>\n",
       "</g>\n",
       "<!-- s1 -->\n",
       "<g id=\"node5\" class=\"node\"><title>s1</title>\n",
       "<ellipse fill=\"lightgreen\" stroke=\"lightgreen\" cx=\"1001.4\" cy=\"-103\" rx=\"71.34\" ry=\"71.34\"/>\n",
       "<ellipse fill=\"none\" stroke=\"lightgreen\" cx=\"1001.4\" cy=\"-103\" rx=\"75.3357\" ry=\"75.3357\"/>\n",
       "<text text-anchor=\"middle\" x=\"1001.4\" y=\"-109.8\" font-family=\"Arial\" font-size=\"24.00\">s1</text>\n",
       "<text text-anchor=\"middle\" x=\"1001.4\" y=\"-83.8\" font-family=\"Arial\" font-size=\"24.00\">V =11.1</text>\n",
       "</g>\n",
       "<!-- s1&#45;a0 -->\n",
       "<g id=\"node6\" class=\"node\"><title>s1&#45;a0</title>\n",
       "<ellipse fill=\"lightpink\" stroke=\"lightpink\" cx=\"1198.39\" cy=\"-101\" rx=\"27.6545\" ry=\"27.6545\"/>\n",
       "<text text-anchor=\"middle\" x=\"1198.39\" y=\"-96\" font-family=\"Arial\" font-size=\"20.00\">a0</text>\n",
       "</g>\n",
       "<!-- s1&#45;&gt;s1&#45;a0 -->\n",
       "<g id=\"edge6\" class=\"edge\"><title>s1&#45;&gt;s1&#45;a0</title>\n",
       "<path fill=\"none\" stroke=\"red\" stroke-width=\"2\" d=\"M1076.67,-95.6613C1105.42,-94.9303 1137.03,-94.9941 1160.69,-95.9635\"/>\n",
       "<polygon fill=\"red\" stroke=\"red\" stroke-width=\"2\" points=\"1160.8,-99.4733 1170.96,-96.4731 1161.14,-92.4818 1160.8,-99.4733\"/>\n",
       "</g>\n",
       "<!-- s1&#45;&gt;s1&#45;a0 -->\n",
       "<g id=\"edge21\" class=\"edge\"><title>s1&#45;&gt;s1&#45;a0</title>\n",
       "<path fill=\"none\" stroke=\"green\" stroke-width=\"6\" d=\"M1076.67,-108.815C1105.42,-108.956 1137.03,-108.244 1160.69,-106.789\"/>\n",
       "<polygon fill=\"green\" stroke=\"green\" stroke-width=\"6\" points=\"1161.35,-112.006 1170.96,-106.069 1160.62,-101.532 1161.35,-112.006\"/>\n",
       "</g>\n",
       "<!-- s1&#45;a1 -->\n",
       "<g id=\"node7\" class=\"node\"><title>s1&#45;a1</title>\n",
       "<ellipse fill=\"lightpink\" stroke=\"lightpink\" cx=\"1198.39\" cy=\"-174\" rx=\"27.6545\" ry=\"27.6545\"/>\n",
       "<text text-anchor=\"middle\" x=\"1198.39\" y=\"-169\" font-family=\"Arial\" font-size=\"20.00\">a1</text>\n",
       "</g>\n",
       "<!-- s1&#45;&gt;s1&#45;a1 -->\n",
       "<g id=\"edge10\" class=\"edge\"><title>s1&#45;&gt;s1&#45;a1</title>\n",
       "<path fill=\"none\" stroke=\"red\" stroke-width=\"2\" d=\"M1073.93,-123.993C1099.15,-131.997 1127.51,-141.694 1152.82,-152 1156.57,-153.531 1160.46,-155.242 1164.29,-157.015\"/>\n",
       "<polygon fill=\"red\" stroke=\"red\" stroke-width=\"2\" points=\"1163.09,-160.32 1173.62,-161.483 1166.11,-154.007 1163.09,-160.32\"/>\n",
       "</g>\n",
       "<!-- s1&#45;a0&#45;&gt;s0 -->\n",
       "<g id=\"edge7\" class=\"edge\"><title>s1&#45;a0&#45;&gt;s0</title>\n",
       "<path fill=\"none\" stroke=\"blue\" stroke-dasharray=\"5,2\" d=\"M1177.53,-82.475C1144.11,-53.3172 1073.31,-0 1002.4,-0 262.413,-0 262.413,-0 262.413,-0 215.088,-0 169.953,-27.4747 135.998,-55.7962\"/>\n",
       "<polygon fill=\"blue\" stroke=\"blue\" points=\"133.365,-53.4437 128.052,-62.6103 137.922,-58.7575 133.365,-53.4437\"/>\n",
       "<text text-anchor=\"middle\" x=\"694.325\" y=\"-5.2\" font-family=\"Arial\" font-size=\"16.00\">p = 0.7 &#160;reward =5</text>\n",
       "</g>\n",
       "<!-- s1&#45;a0&#45;&gt;s2 -->\n",
       "<g id=\"edge9\" class=\"edge\"><title>s1&#45;a0&#45;&gt;s2</title>\n",
       "<path fill=\"none\" stroke=\"blue\" stroke-dasharray=\"5,2\" d=\"M1180.28,-122.014C1176.87,-126.771 1173.51,-131.921 1170.82,-137 1159.55,-158.236 1172.36,-174.006 1152.82,-188 1070.07,-247.252 769.7,-222.198 621.407,-205.497\"/>\n",
       "<polygon fill=\"blue\" stroke=\"blue\" points=\"621.763,-202.015 611.431,-204.36 620.97,-208.97 621.763,-202.015\"/>\n",
       "<text text-anchor=\"middle\" x=\"878.98\" y=\"-231.2\" font-family=\"Arial\" font-size=\"16.00\">p = 0.2</text>\n",
       "</g>\n",
       "<!-- s1&#45;a0&#45;&gt;s1 -->\n",
       "<g id=\"edge8\" class=\"edge\"><title>s1&#45;a0&#45;&gt;s1</title>\n",
       "<path fill=\"none\" stroke=\"blue\" stroke-dasharray=\"5,2\" d=\"M1174.03,-87.6428C1167.38,-84.5035 1160,-81.6065 1152.82,-80 1130.68,-75.0477 1106.48,-76.0037 1084.08,-79.4621\"/>\n",
       "<polygon fill=\"blue\" stroke=\"blue\" points=\"1083.19,-76.0642 1073.93,-81.215 1084.38,-82.9621 1083.19,-76.0642\"/>\n",
       "<text text-anchor=\"middle\" x=\"1123.82\" y=\"-85.2\" font-family=\"Arial\" font-size=\"16.00\">p = 0.1</text>\n",
       "</g>\n",
       "<!-- s1&#45;a1&#45;&gt;s2 -->\n",
       "<g id=\"edge12\" class=\"edge\"><title>s1&#45;a1&#45;&gt;s2</title>\n",
       "<path fill=\"none\" stroke=\"blue\" stroke-dasharray=\"5,2\" d=\"M1181.79,-196.569C1174.19,-205.6 1164.23,-215.027 1152.82,-220 939.711,-312.815 859.878,-253.229 629.825,-220 626.199,-219.476 622.511,-218.857 618.8,-218.163\"/>\n",
       "<polygon fill=\"blue\" stroke=\"blue\" points=\"619.444,-214.723 608.948,-216.165 618.053,-221.583 619.444,-214.723\"/>\n",
       "<text text-anchor=\"middle\" x=\"878.98\" y=\"-273.2\" font-family=\"Arial\" font-size=\"16.00\">p = 0.05</text>\n",
       "</g>\n",
       "<!-- s1&#45;a1&#45;&gt;s1 -->\n",
       "<g id=\"edge11\" class=\"edge\"><title>s1&#45;a1&#45;&gt;s1</title>\n",
       "<path fill=\"none\" stroke=\"blue\" stroke-dasharray=\"5,2\" d=\"M1170.74,-169.588C1149.73,-165.678 1119.9,-159.16 1094.82,-150 1088.99,-147.873 1083.06,-145.466 1077.16,-142.895\"/>\n",
       "<polygon fill=\"blue\" stroke=\"blue\" points=\"1078.48,-139.652 1067.92,-138.735 1075.6,-146.034 1078.48,-139.652\"/>\n",
       "<text text-anchor=\"middle\" x=\"1123.82\" y=\"-171.2\" font-family=\"Arial\" font-size=\"16.00\">p = 0.95</text>\n",
       "</g>\n",
       "<!-- s2&#45;a0&#45;&gt;s0 -->\n",
       "<g id=\"edge14\" class=\"edge\"><title>s2&#45;a0&#45;&gt;s0</title>\n",
       "<path fill=\"none\" stroke=\"blue\" stroke-dasharray=\"5,2\" d=\"M784.892,-127.722C777.512,-121.064 768.475,-114.483 758.825,-111 540.191,-32.0855 468.234,-106.628 235.836,-111 211.606,-111.456 185.315,-112.301 161.203,-113.216\"/>\n",
       "<polygon fill=\"blue\" stroke=\"blue\" points=\"160.872,-109.726 151.015,-113.612 161.144,-116.721 160.872,-109.726\"/>\n",
       "<text text-anchor=\"middle\" x=\"375.99\" y=\"-113.2\" font-family=\"Arial\" font-size=\"16.00\">p = 0.4</text>\n",
       "</g>\n",
       "<!-- s2&#45;a0&#45;&gt;s1 -->\n",
       "<g id=\"edge15\" class=\"edge\"><title>s2&#45;a0&#45;&gt;s1</title>\n",
       "<path fill=\"none\" stroke=\"blue\" stroke-dasharray=\"5,2\" d=\"M831.701,-141.931C853.838,-136.822 886.744,-129.228 917.631,-122.1\"/>\n",
       "<polygon fill=\"blue\" stroke=\"blue\" points=\"918.615,-125.465 927.572,-119.806 917.041,-118.645 918.615,-125.465\"/>\n",
       "<text text-anchor=\"middle\" x=\"878.98\" y=\"-143.2\" font-family=\"Arial\" font-size=\"16.00\">p = 0.6</text>\n",
       "</g>\n",
       "<!-- s2&#45;a1&#45;&gt;s0 -->\n",
       "<g id=\"edge17\" class=\"edge\"><title>s2&#45;a1&#45;&gt;s0</title>\n",
       "<path fill=\"none\" stroke=\"blue\" stroke-dasharray=\"5,2\" d=\"M776.77,-70.4797C702.479,-63.9226 486.754,-48.1073 308.99,-67 258.305,-72.3868 202.437,-84.2004 158.163,-94.9922\"/>\n",
       "<polygon fill=\"blue\" stroke=\"blue\" points=\"157.194,-91.6262 148.324,-97.42 158.871,-98.4224 157.194,-91.6262\"/>\n",
       "<text text-anchor=\"middle\" x=\"375.99\" y=\"-72.2\" font-family=\"Arial\" font-size=\"16.00\">p = 0.3 &#160;reward =&#45;1</text>\n",
       "</g>\n",
       "<!-- s2&#45;a1&#45;&gt;s2 -->\n",
       "<g id=\"edge19\" class=\"edge\"><title>s2&#45;a1&#45;&gt;s2</title>\n",
       "<path fill=\"none\" stroke=\"blue\" stroke-dasharray=\"5,2\" d=\"M783.244,-90.7434C775.967,-96.356 767.42,-102.105 758.825,-106 705.388,-130.217 683.895,-111.231 629.825,-134 622.057,-137.271 614.239,-141.211 606.616,-145.495\"/>\n",
       "<polygon fill=\"blue\" stroke=\"blue\" points=\"604.641,-142.596 597.772,-150.662 608.172,-148.64 604.641,-142.596\"/>\n",
       "<text text-anchor=\"middle\" x=\"694.325\" y=\"-139.2\" font-family=\"Arial\" font-size=\"16.00\">p = 0.4</text>\n",
       "</g>\n",
       "<!-- s2&#45;a1&#45;&gt;s1 -->\n",
       "<g id=\"edge18\" class=\"edge\"><title>s2&#45;a1&#45;&gt;s1</title>\n",
       "<path fill=\"none\" stroke=\"blue\" stroke-dasharray=\"5,2\" d=\"M831.701,-77.0459C853.556,-80.4083 885.906,-85.3854 916.447,-90.0842\"/>\n",
       "<polygon fill=\"blue\" stroke=\"blue\" points=\"916.301,-93.6029 926.717,-91.6643 917.366,-86.6843 916.301,-93.6029\"/>\n",
       "<text text-anchor=\"middle\" x=\"878.98\" y=\"-94.2\" font-family=\"Arial\" font-size=\"16.00\">p = 0.3</text>\n",
       "</g>\n",
       "</g>\n",
       "</svg>\n"
      ],
      "text/plain": [
       "<graphviz.dot.Digraph at 0x7f0243f78b70>"
      ]
     },
     "metadata": {},
     "output_type": "display_data"
    },
    {
     "data": {
      "text/plain": [
       "None"
      ]
     },
     "metadata": {},
     "output_type": "display_data"
    }
   ],
   "source": [
    "assert get_optimal_action(mdp, state_values, 's0', gamma) == 'a1'\n",
    "assert get_optimal_action(mdp, state_values, 's1', gamma) == 'a0'\n",
    "assert get_optimal_action(mdp, state_values, 's2', gamma) == 'a0'\n",
    "display(plot_graph_optimal_strategy_and_state_values(mdp, state_values, gamma))"
   ]
  },
  {
   "cell_type": "code",
   "execution_count": 15,
   "metadata": {
    "ExecuteTime": {
     "end_time": "2018-04-02T13:43:17.110002Z",
     "start_time": "2018-04-02T13:43:05.538Z"
    }
   },
   "outputs": [
    {
     "name": "stdout",
     "output_type": "stream",
     "text": [
      "average reward:  0.932\n"
     ]
    }
   ],
   "source": [
    "# Measure agent's average reward\n",
    "\n",
    "s = mdp.reset()\n",
    "rewards = []\n",
    "for _ in range(10000):\n",
    "    s, r, done, _ = mdp.step(get_optimal_action(mdp, state_values, s, gamma))\n",
    "    rewards.append(r)\n",
    "\n",
    "print(\"average reward: \", np.mean(rewards))\n",
    "\n",
    "assert(0.85 < np.mean(rewards) < 1.0)"
   ]
  },
  {
   "cell_type": "markdown",
   "metadata": {},
   "source": [
    "### Frozen lake"
   ]
  },
  {
   "cell_type": "code",
   "execution_count": 16,
   "metadata": {
    "ExecuteTime": {
     "end_time": "2018-04-02T13:43:17.110991Z",
     "start_time": "2018-04-02T13:43:05.541Z"
    }
   },
   "outputs": [
    {
     "name": "stdout",
     "output_type": "stream",
     "text": [
      "*FFF\n",
      "FHFH\n",
      "FFFH\n",
      "HFFG\n",
      "\n"
     ]
    }
   ],
   "source": [
    "from mdp import FrozenLakeEnv\n",
    "mdp = FrozenLakeEnv(slip_chance=0)\n",
    "\n",
    "mdp.render()"
   ]
  },
  {
   "cell_type": "code",
   "execution_count": 17,
   "metadata": {
    "ExecuteTime": {
     "end_time": "2018-04-02T13:43:17.111919Z",
     "start_time": "2018-04-02T13:43:05.545Z"
    }
   },
   "outputs": [],
   "source": [
    "def value_iteration(mdp, state_values=None, gamma=0.9, num_iter=1000, min_difference=1e-5):\n",
    "    \"\"\" performs num_iter value iteration steps starting from state_values. Same as before but in a function \"\"\"\n",
    "    state_values = state_values or {s: 0 for s in mdp.get_all_states()}\n",
    "    for i in range(num_iter):\n",
    "\n",
    "        # Compute new state values using the functions you defined above. It must be a dict {state : new_V(state)}\n",
    "        new_state_values = {s: get_new_state_value(mdp, state_values, s, gamma) for s in state_values}\n",
    "\n",
    "        assert isinstance(new_state_values, dict)\n",
    "\n",
    "        # Compute difference\n",
    "        diff = max(abs(new_state_values[s] - state_values[s])\n",
    "                   for s in mdp.get_all_states())\n",
    "\n",
    "        print(\"iter %4i   |   diff: %6.5f   |   V(start): %.3f \" %\n",
    "              (i, diff, new_state_values[mdp._initial_state]))\n",
    "\n",
    "        state_values = new_state_values\n",
    "        if diff < min_difference:\n",
    "            break\n",
    "\n",
    "    return state_values"
   ]
  },
  {
   "cell_type": "code",
   "execution_count": 18,
   "metadata": {
    "ExecuteTime": {
     "end_time": "2018-04-02T13:43:17.112871Z",
     "start_time": "2018-04-02T13:43:05.548Z"
    }
   },
   "outputs": [
    {
     "name": "stdout",
     "output_type": "stream",
     "text": [
      "iter    0   |   diff: 1.00000   |   V(start): 0.000 \n",
      "iter    1   |   diff: 0.90000   |   V(start): 0.000 \n",
      "iter    2   |   diff: 0.81000   |   V(start): 0.000 \n",
      "iter    3   |   diff: 0.72900   |   V(start): 0.000 \n",
      "iter    4   |   diff: 0.65610   |   V(start): 0.000 \n",
      "iter    5   |   diff: 0.59049   |   V(start): 0.590 \n",
      "iter    6   |   diff: 0.00000   |   V(start): 0.590 \n"
     ]
    }
   ],
   "source": [
    "state_values = value_iteration(mdp)"
   ]
  },
  {
   "cell_type": "code",
   "execution_count": 19,
   "metadata": {
    "ExecuteTime": {
     "end_time": "2018-04-02T13:43:17.114062Z",
     "start_time": "2018-04-02T13:43:05.552Z"
    }
   },
   "outputs": [
    {
     "name": "stdout",
     "output_type": "stream",
     "text": [
      "*FFF\n",
      "FHFH\n",
      "FFFH\n",
      "HFFG\n",
      "\n",
      "down\n",
      "\n",
      "SFFF\n",
      "*HFH\n",
      "FFFH\n",
      "HFFG\n",
      "\n",
      "down\n",
      "\n",
      "SFFF\n",
      "FHFH\n",
      "*FFH\n",
      "HFFG\n",
      "\n",
      "right\n",
      "\n",
      "SFFF\n",
      "FHFH\n",
      "F*FH\n",
      "HFFG\n",
      "\n",
      "down\n",
      "\n",
      "SFFF\n",
      "FHFH\n",
      "FFFH\n",
      "H*FG\n",
      "\n",
      "right\n",
      "\n",
      "SFFF\n",
      "FHFH\n",
      "FFFH\n",
      "HF*G\n",
      "\n",
      "right\n",
      "\n",
      "SFFF\n",
      "FHFH\n",
      "FFFH\n",
      "HFF*\n",
      "\n"
     ]
    }
   ],
   "source": [
    "s = mdp.reset()\n",
    "mdp.render()\n",
    "for t in range(100):\n",
    "    a = get_optimal_action(mdp, state_values, s, gamma)\n",
    "    print(a, end='\\n\\n')\n",
    "    s, r, done, _ = mdp.step(a)\n",
    "    mdp.render()\n",
    "    if done:\n",
    "        break"
   ]
  },
  {
   "cell_type": "markdown",
   "metadata": {},
   "source": [
    "### Let's visualize!\n",
    "\n",
    "It's usually interesting to see what your algorithm actually learned under the hood. To do so, we'll plot state value functions and optimal actions at each VI step."
   ]
  },
  {
   "cell_type": "code",
   "execution_count": 20,
   "metadata": {
    "ExecuteTime": {
     "end_time": "2018-04-02T13:43:17.115092Z",
     "start_time": "2018-04-02T13:43:05.556Z"
    }
   },
   "outputs": [],
   "source": [
    "import matplotlib.pyplot as plt\n",
    "%matplotlib inline\n",
    "\n",
    "\n",
    "def draw_policy(mdp, state_values):\n",
    "    plt.figure(figsize=(3, 3))\n",
    "    h, w = mdp.desc.shape\n",
    "    states = sorted(mdp.get_all_states())\n",
    "    V = np.array([state_values[s] for s in states])\n",
    "    Pi = {s: get_optimal_action(mdp, state_values, s, gamma) for s in states}\n",
    "    plt.imshow(V.reshape(w, h), cmap='gray', interpolation='none', clim=(0, 1))\n",
    "    ax = plt.gca()\n",
    "    ax.set_xticks(np.arange(h)-.5)\n",
    "    ax.set_yticks(np.arange(w)-.5)\n",
    "    ax.set_xticklabels([])\n",
    "    ax.set_yticklabels([])\n",
    "    Y, X = np.mgrid[0:4, 0:4]\n",
    "    a2uv = {'left': (-1, 0), 'down': (0, -1), 'right': (1, 0), 'up': (-1, 0)}\n",
    "    for y in range(h):\n",
    "        for x in range(w):\n",
    "            plt.text(x, y, str(mdp.desc[y, x].item()),\n",
    "                     color='g', size=12,  verticalalignment='center',\n",
    "                     horizontalalignment='center', fontweight='bold')\n",
    "            a = Pi[y, x]\n",
    "            if a is None:\n",
    "                continue\n",
    "            u, v = a2uv[a]\n",
    "            plt.arrow(x, y, u*.3, -v*.3, color='m',\n",
    "                      head_width=0.1, head_length=0.1)\n",
    "    plt.grid(color='b', lw=2, ls='-')\n",
    "    plt.show()"
   ]
  },
  {
   "cell_type": "code",
   "execution_count": 21,
   "metadata": {
    "ExecuteTime": {
     "end_time": "2018-04-02T13:43:17.116164Z",
     "start_time": "2018-04-02T13:43:05.560Z"
    }
   },
   "outputs": [
    {
     "name": "stdout",
     "output_type": "stream",
     "text": [
      "after iteration 1\n",
      "iter    0   |   diff: 1.00000   |   V(start): 0.000 \n"
     ]
    },
    {
     "data": {
      "image/png": "[encoded data removed]",
      "text/plain": [
       "<Figure size 216x216 with 1 Axes>"
      ]
     },
     "metadata": {},
     "output_type": "display_data"
    },
    {
     "name": "stdout",
     "output_type": "stream",
     "text": [
      "after iteration 2\n",
      "iter    0   |   diff: 0.90000   |   V(start): 0.000 \n"
     ]
    },
    {
     "data": {
      "image/png": "[encoded data removed]",
      "text/plain": [
       "<Figure size 216x216 with 1 Axes>"
      ]
     },
     "metadata": {},
     "output_type": "display_data"
    },
    {
     "name": "stdout",
     "output_type": "stream",
     "text": [
      "after iteration 3\n",
      "iter    0   |   diff: 0.81000   |   V(start): 0.000 \n"
     ]
    },
    {
     "data": {
      "image/png": "[encoded data removed]",
      "text/plain": [
       "<Figure size 216x216 with 1 Axes>"
      ]
     },
     "metadata": {},
     "output_type": "display_data"
    },
    {
     "name": "stdout",
     "output_type": "stream",
     "text": [
      "after iteration 4\n",
      "iter    0   |   diff: 0.72900   |   V(start): 0.000 \n"
     ]
    },
    {
     "data": {
      "image/png": "[encoded data removed]",
      "text/plain": [
       "<Figure size 216x216 with 1 Axes>"
      ]
     },
     "metadata": {},
     "output_type": "display_data"
    },
    {
     "name": "stdout",
     "output_type": "stream",
     "text": [
      "after iteration 5\n",
      "iter    0   |   diff: 0.65610   |   V(start): 0.000 \n"
     ]
    },
    {
     "data": {
      "image/png": "[encoded data removed]",
      "text/plain": [
       "<Figure size 216x216 with 1 Axes>"
      ]
     },
     "metadata": {},
     "output_type": "display_data"
    },
    {
     "name": "stdout",
     "output_type": "stream",
     "text": [
      "after iteration 6\n",
      "iter    0   |   diff: 0.59049   |   V(start): 0.590 \n"
     ]
    },
    {
     "data": {
      "image/png": "[encoded data removed]",
      "text/plain": [
       "<Figure size 216x216 with 1 Axes>"
      ]
     },
     "metadata": {},
     "output_type": "display_data"
    },
    {
     "name": "stdout",
     "output_type": "stream",
     "text": [
      "after iteration 7\n",
      "iter    0   |   diff: 0.00000   |   V(start): 0.590 \n"
     ]
    },
    {
     "data": {
      "image/png": "[encoded data removed]",
      "text/plain": [
       "<Figure size 216x216 with 1 Axes>"
      ]
     },
     "metadata": {},
     "output_type": "display_data"
    },
    {
     "name": "stdout",
     "output_type": "stream",
     "text": [
      "after iteration 8\n",
      "iter    0   |   diff: 0.00000   |   V(start): 0.590 \n"
     ]
    },
    {
     "data": {
      "image/png": "[encoded data removed]",
      "text/plain": [
       "<Figure size 216x216 with 1 Axes>"
      ]
     },
     "metadata": {},
     "output_type": "display_data"
    },
    {
     "name": "stdout",
     "output_type": "stream",
     "text": [
      "after iteration 9\n",
      "iter    0   |   diff: 0.00000   |   V(start): 0.590 \n"
     ]
    },
    {
     "data": {
      "image/png": "[encoded data removed]",
      "text/plain": [
       "<Figure size 216x216 with 1 Axes>"
      ]
     },
     "metadata": {},
     "output_type": "display_data"
    }
   ],
   "source": [
    "state_values = {s: 0 for s in mdp.get_all_states()}\n",
    "\n",
    "for i in range(1, 10):\n",
    "    print(\"after iteration %i\" % i)\n",
    "    state_values = value_iteration(mdp, state_values, num_iter=1)\n",
    "    draw_policy(mdp, state_values)\n",
    "# please ignore iter 0 at each step"
   ]
  },
  {
   "cell_type": "code",
   "execution_count": 22,
   "metadata": {
    "ExecuteTime": {
     "end_time": "2018-04-02T13:43:17.117143Z",
     "start_time": "2018-04-02T13:43:05.563Z"
    }
   },
   "outputs": [
    {
     "name": "stdout",
     "output_type": "stream",
     "text": [
      "after iteration 29\n",
      "iter    0   |   diff: 0.00000   |   V(start): 0.198 \n"
     ]
    },
    {
     "data": {
      "image/png": "[encoded data removed]",
      "text/plain": [
       "<Figure size 216x216 with 1 Axes>"
      ]
     },
     "metadata": {},
     "output_type": "display_data"
    }
   ],
   "source": [
    "from IPython.display import clear_output\n",
    "from time import sleep\n",
    "mdp = FrozenLakeEnv(map_name='8x8', slip_chance=0.1)\n",
    "state_values = {s: 0 for s in mdp.get_all_states()}\n",
    "\n",
    "for i in range(1, 30):\n",
    "    clear_output(True)\n",
    "    print(\"after iteration %i\" % i)\n",
    "    state_values = value_iteration(mdp, state_values, num_iter=1)\n",
    "    draw_policy(mdp, state_values)\n",
    "    sleep(0.5)\n",
    "# please ignore iter 0 at each step"
   ]
  },
  {
   "cell_type": "markdown",
   "metadata": {},
   "source": [
    "Massive tests"
   ]
  },
  {
   "cell_type": "code",
   "execution_count": 23,
   "metadata": {
    "ExecuteTime": {
     "end_time": "2018-04-02T13:43:17.118218Z",
     "start_time": "2018-04-02T13:43:05.568Z"
    }
   },
   "outputs": [
    {
     "name": "stdout",
     "output_type": "stream",
     "text": [
      "iter    0   |   diff: 1.00000   |   V(start): 0.000 \n",
      "iter    1   |   diff: 0.90000   |   V(start): 0.000 \n",
      "iter    2   |   diff: 0.81000   |   V(start): 0.000 \n",
      "iter    3   |   diff: 0.72900   |   V(start): 0.000 \n",
      "iter    4   |   diff: 0.65610   |   V(start): 0.000 \n",
      "iter    5   |   diff: 0.59049   |   V(start): 0.590 \n",
      "iter    6   |   diff: 0.00000   |   V(start): 0.590 \n",
      "average reward:  1.0\n",
      "Well done!\n"
     ]
    }
   ],
   "source": [
    "mdp = FrozenLakeEnv(slip_chance=0)\n",
    "state_values = value_iteration(mdp)\n",
    "\n",
    "total_rewards = []\n",
    "for game_i in range(1000):\n",
    "    s = mdp.reset()\n",
    "    rewards = []\n",
    "    for t in range(100):\n",
    "        s, r, done, _ = mdp.step(\n",
    "            get_optimal_action(mdp, state_values, s, gamma))\n",
    "        rewards.append(r)\n",
    "        if done:\n",
    "            break\n",
    "    total_rewards.append(np.sum(rewards))\n",
    "\n",
    "print(\"average reward: \", np.mean(total_rewards))\n",
    "assert(1.0 <= np.mean(total_rewards) <= 1.0)\n",
    "print(\"Well done!\")"
   ]
  },
  {
   "cell_type": "code",
   "execution_count": 24,
   "metadata": {
    "ExecuteTime": {
     "end_time": "2018-04-02T13:43:17.119075Z",
     "start_time": "2018-04-02T13:43:05.571Z"
    }
   },
   "outputs": [
    {
     "name": "stdout",
     "output_type": "stream",
     "text": [
      "iter    0   |   diff: 0.90000   |   V(start): 0.000 \n",
      "iter    1   |   diff: 0.72900   |   V(start): 0.000 \n",
      "iter    2   |   diff: 0.62330   |   V(start): 0.000 \n",
      "iter    3   |   diff: 0.50487   |   V(start): 0.000 \n",
      "iter    4   |   diff: 0.40894   |   V(start): 0.000 \n",
      "iter    5   |   diff: 0.34868   |   V(start): 0.349 \n",
      "iter    6   |   diff: 0.06529   |   V(start): 0.410 \n",
      "iter    7   |   diff: 0.05832   |   V(start): 0.468 \n",
      "iter    8   |   diff: 0.01139   |   V(start): 0.480 \n",
      "iter    9   |   diff: 0.00764   |   V(start): 0.487 \n",
      "iter   10   |   diff: 0.00164   |   V(start): 0.489 \n",
      "iter   11   |   diff: 0.00094   |   V(start): 0.490 \n",
      "iter   12   |   diff: 0.00022   |   V(start): 0.490 \n",
      "iter   13   |   diff: 0.00011   |   V(start): 0.490 \n",
      "iter   14   |   diff: 0.00003   |   V(start): 0.490 \n",
      "iter   15   |   diff: 0.00001   |   V(start): 0.490 \n",
      "iter   16   |   diff: 0.00000   |   V(start): 0.490 \n",
      "average reward:  0.884\n",
      "Well done!\n"
     ]
    }
   ],
   "source": [
    "# Measure agent's average reward\n",
    "mdp = FrozenLakeEnv(slip_chance=0.1)\n",
    "state_values = value_iteration(mdp)\n",
    "\n",
    "total_rewards = []\n",
    "for game_i in range(1000):\n",
    "    s = mdp.reset()\n",
    "    rewards = []\n",
    "    for t in range(100):\n",
    "        s, r, done, _ = mdp.step(\n",
    "            get_optimal_action(mdp, state_values, s, gamma))\n",
    "        rewards.append(r)\n",
    "        if done:\n",
    "            break\n",
    "    total_rewards.append(np.sum(rewards))\n",
    "\n",
    "print(\"average reward: \", np.mean(total_rewards))\n",
    "assert(0.8 <= np.mean(total_rewards) <= 0.95)\n",
    "print(\"Well done!\")"
   ]
  },
  {
   "cell_type": "code",
   "execution_count": 25,
   "metadata": {
    "ExecuteTime": {
     "end_time": "2018-04-02T13:43:17.120316Z",
     "start_time": "2018-04-02T13:43:05.574Z"
    }
   },
   "outputs": [
    {
     "name": "stdout",
     "output_type": "stream",
     "text": [
      "iter    0   |   diff: 0.75000   |   V(start): 0.000 \n",
      "iter    1   |   diff: 0.50625   |   V(start): 0.000 \n",
      "iter    2   |   diff: 0.39867   |   V(start): 0.000 \n",
      "iter    3   |   diff: 0.26910   |   V(start): 0.000 \n",
      "iter    4   |   diff: 0.18164   |   V(start): 0.000 \n",
      "iter    5   |   diff: 0.14013   |   V(start): 0.140 \n",
      "iter    6   |   diff: 0.07028   |   V(start): 0.199 \n",
      "iter    7   |   diff: 0.06030   |   V(start): 0.260 \n",
      "iter    8   |   diff: 0.02594   |   V(start): 0.285 \n",
      "iter    9   |   diff: 0.01918   |   V(start): 0.305 \n",
      "iter   10   |   diff: 0.00858   |   V(start): 0.313 \n",
      "iter   11   |   diff: 0.00560   |   V(start): 0.319 \n",
      "iter   12   |   diff: 0.00260   |   V(start): 0.321 \n",
      "iter   13   |   diff: 0.00159   |   V(start): 0.323 \n",
      "iter   14   |   diff: 0.00076   |   V(start): 0.324 \n",
      "iter   15   |   diff: 0.00045   |   V(start): 0.324 \n",
      "iter   16   |   diff: 0.00022   |   V(start): 0.324 \n",
      "iter   17   |   diff: 0.00012   |   V(start): 0.325 \n",
      "iter   18   |   diff: 0.00006   |   V(start): 0.325 \n",
      "iter   19   |   diff: 0.00003   |   V(start): 0.325 \n",
      "iter   20   |   diff: 0.00002   |   V(start): 0.325 \n",
      "iter   21   |   diff: 0.00001   |   V(start): 0.325 \n",
      "average reward:  0.64\n",
      "Well done!\n"
     ]
    }
   ],
   "source": [
    "# Measure agent's average reward\n",
    "mdp = FrozenLakeEnv(slip_chance=0.25)\n",
    "state_values = value_iteration(mdp)\n",
    "\n",
    "total_rewards = []\n",
    "for game_i in range(1000):\n",
    "    s = mdp.reset()\n",
    "    rewards = []\n",
    "    for t in range(100):\n",
    "        s, r, done, _ = mdp.step(\n",
    "            get_optimal_action(mdp, state_values, s, gamma))\n",
    "        rewards.append(r)\n",
    "        if done:\n",
    "            break\n",
    "    total_rewards.append(np.sum(rewards))\n",
    "\n",
    "print(\"average reward: \", np.mean(total_rewards))\n",
    "assert(0.6 <= np.mean(total_rewards) <= 0.7)\n",
    "print(\"Well done!\")"
   ]
  },
  {
   "cell_type": "code",
   "execution_count": 26,
   "metadata": {
    "ExecuteTime": {
     "end_time": "2018-04-02T13:43:17.121544Z",
     "start_time": "2018-04-02T13:43:05.578Z"
    }
   },
   "outputs": [
    {
     "name": "stdout",
     "output_type": "stream",
     "text": [
      "iter    0   |   diff: 0.80000   |   V(start): 0.000 \n",
      "iter    1   |   diff: 0.57600   |   V(start): 0.000 \n",
      "iter    2   |   diff: 0.41472   |   V(start): 0.000 \n",
      "iter    3   |   diff: 0.29860   |   V(start): 0.000 \n",
      "iter    4   |   diff: 0.24186   |   V(start): 0.000 \n",
      "iter    5   |   diff: 0.19349   |   V(start): 0.000 \n",
      "iter    6   |   diff: 0.15325   |   V(start): 0.000 \n",
      "iter    7   |   diff: 0.12288   |   V(start): 0.000 \n",
      "iter    8   |   diff: 0.09930   |   V(start): 0.000 \n",
      "iter    9   |   diff: 0.08037   |   V(start): 0.000 \n",
      "iter   10   |   diff: 0.06426   |   V(start): 0.000 \n",
      "iter   11   |   diff: 0.05129   |   V(start): 0.000 \n",
      "iter   12   |   diff: 0.04330   |   V(start): 0.000 \n",
      "iter   13   |   diff: 0.03802   |   V(start): 0.033 \n",
      "iter   14   |   diff: 0.03332   |   V(start): 0.058 \n",
      "iter   15   |   diff: 0.02910   |   V(start): 0.087 \n",
      "iter   16   |   diff: 0.01855   |   V(start): 0.106 \n",
      "iter   17   |   diff: 0.01403   |   V(start): 0.120 \n",
      "iter   18   |   diff: 0.00810   |   V(start): 0.128 \n",
      "iter   19   |   diff: 0.00555   |   V(start): 0.133 \n",
      "iter   20   |   diff: 0.00321   |   V(start): 0.137 \n",
      "iter   21   |   diff: 0.00247   |   V(start): 0.138 \n",
      "iter   22   |   diff: 0.00147   |   V(start): 0.139 \n",
      "iter   23   |   diff: 0.00104   |   V(start): 0.140 \n",
      "iter   24   |   diff: 0.00058   |   V(start): 0.140 \n",
      "iter   25   |   diff: 0.00036   |   V(start): 0.141 \n",
      "iter   26   |   diff: 0.00024   |   V(start): 0.141 \n",
      "iter   27   |   diff: 0.00018   |   V(start): 0.141 \n",
      "iter   28   |   diff: 0.00012   |   V(start): 0.141 \n",
      "iter   29   |   diff: 0.00007   |   V(start): 0.141 \n",
      "iter   30   |   diff: 0.00004   |   V(start): 0.141 \n",
      "iter   31   |   diff: 0.00003   |   V(start): 0.141 \n",
      "iter   32   |   diff: 0.00001   |   V(start): 0.141 \n",
      "iter   33   |   diff: 0.00001   |   V(start): 0.141 \n",
      "average reward:  0.74\n",
      "Well done!\n"
     ]
    }
   ],
   "source": [
    "# Measure agent's average reward\n",
    "mdp = FrozenLakeEnv(slip_chance=0.2, map_name='8x8')\n",
    "state_values = value_iteration(mdp)\n",
    "\n",
    "total_rewards = []\n",
    "for game_i in range(1000):\n",
    "    s = mdp.reset()\n",
    "    rewards = []\n",
    "    for t in range(100):\n",
    "        s, r, done, _ = mdp.step(\n",
    "            get_optimal_action(mdp, state_values, s, gamma))\n",
    "        rewards.append(r)\n",
    "        if done:\n",
    "            break\n",
    "    total_rewards.append(np.sum(rewards))\n",
    "\n",
    "print(\"average reward: \", np.mean(total_rewards))\n",
    "assert(0.6 <= np.mean(total_rewards) <= 0.8)\n",
    "print(\"Well done!\")"
   ]
  },
  {
   "cell_type": "markdown",
   "metadata": {},
   "source": [
    "## Bonus area"
   ]
  },
  {
   "cell_type": "markdown",
   "metadata": {},
   "source": [
    "### Bonus 1 - find an MDP for which value iteration takes long to converge  (2+ pts)\n",
    "\n",
    "When we ran value iteration on the small frozen lake problem, the last iteration where an action changed was iteration 6--i.e., value iteration computed the optimal policy at iteration 6. Are there any guarantees regarding how many iterations it'll take value iteration to compute the optimal policy? There are no such guarantees without additional assumptions--we can construct the MDP in such a way that the greedy policy will change after arbitrarily many iterations.\n",
    "\n",
    "Your task: define an MDP with at most 3 states and 2 actions, such that when you run value iteration, the optimal action changes at iteration >= 50. Use discount=0.95. (However, note that the discount doesn't matter here--you can construct an appropriate MDP with any discount.)\n",
    "\n",
    "Note: value function must change at least once after iteration >=50, not necessarily change on every iteration till >=50."
   ]
  },
  {
   "cell_type": "code",
   "execution_count": 25,
   "metadata": {
    "ExecuteTime": {
     "end_time": "2018-04-02T13:43:17.122424Z",
     "start_time": "2018-04-02T13:43:05.582Z"
    }
   },
   "outputs": [],
   "source": [
    "transition_probs = {\n",
    "    's0': {\n",
    "        'a0': {'s0': 0.5, 's2': 0.5},\n",
    "        'a1': {'s2': 0.35, 's1': 0.3, 's0': 0.35}\n",
    "    },\n",
    "    's1': {\n",
    "        'a0': {'s0': 0.7, 's1': 0.1, 's2': 0.2},\n",
    "        'a1': {'s0': 0.4, 's2': 0.5, 's1': 0.1}\n",
    "    },\n",
    "    's2': {\n",
    "        'a0': {'s0': 0.4, 's1': 0.6},\n",
    "        'a1': {'s0': 0.3, 's1': 0.3, 's2': 0.4}\n",
    "    }\n",
    "}\n",
    "rewards = {\n",
    "    's1': {'a0': {'s0': +5}},\n",
    "    's2': {'a1': {'s0': -1}}\n",
    "}\n",
    "\n",
    "mdp = MDP(transition_probs, rewards, initial_state='s0')"
   ]
  },
  {
   "cell_type": "code",
   "execution_count": 28,
   "metadata": {},
   "outputs": [
    {
     "data": {
      "text/plain": [
       "array([False, False, False, False, False, False, False, False, False,\n",
       "       False])"
      ]
     },
     "execution_count": 28,
     "metadata": {},
     "output_type": "execute_result"
    }
   ],
   "source": [
    "np.not_equal(np.ones(10), np.ones(10))"
   ]
  },
  {
   "cell_type": "code",
   "execution_count": 29,
   "metadata": {
    "ExecuteTime": {
     "end_time": "2018-04-02T13:43:17.123825Z",
     "start_time": "2018-04-02T13:43:05.586Z"
    }
   },
   "outputs": [
    {
     "name": "stdout",
     "output_type": "stream",
     "text": [
      "after iteration 1\n",
      "iter    0   |   diff: 3.50000   |   V(start): 0.000 \n",
      "N actions changed = 2 \n",
      " <class 'int'>\n",
      "after iteration 2\n",
      "iter    0   |   diff: 1.89000   |   V(start): 0.945 \n",
      "N actions changed = 3 \n",
      " <class 'int'>\n",
      "after iteration 3\n",
      "iter    0   |   diff: 0.97807   |   V(start): 1.923 \n",
      "N actions changed = 3 \n",
      " <class 'int'>\n",
      "after iteration 4\n",
      "iter    0   |   diff: 0.87261   |   V(start): 2.652 \n",
      "N actions changed = 3 \n",
      " <class 'int'>\n",
      "after iteration 5\n",
      "iter    0   |   diff: 0.71913   |   V(start): 3.371 \n",
      "N actions changed = 3 \n",
      " <class 'int'>\n",
      "after iteration 6\n",
      "iter    0   |   diff: 0.63946   |   V(start): 4.001 \n",
      "N actions changed = 3 \n",
      " <class 'int'>\n",
      "after iteration 7\n",
      "iter    0   |   diff: 0.57216   |   V(start): 4.571 \n",
      "N actions changed = 3 \n",
      " <class 'int'>\n",
      "after iteration 8\n",
      "iter    0   |   diff: 0.51305   |   V(start): 5.084 \n",
      "N actions changed = 3 \n",
      " <class 'int'>\n",
      "after iteration 9\n",
      "iter    0   |   diff: 0.46174   |   V(start): 5.546 \n",
      "N actions changed = 3 \n",
      " <class 'int'>\n",
      "after iteration 10\n",
      "iter    0   |   diff: 0.41538   |   V(start): 5.961 \n",
      "N actions changed = 3 \n",
      " <class 'int'>\n",
      "after iteration 11\n",
      "iter    0   |   diff: 0.37383   |   V(start): 6.335 \n",
      "N actions changed = 3 \n",
      " <class 'int'>\n",
      "after iteration 12\n",
      "iter    0   |   diff: 0.33643   |   V(start): 6.671 \n",
      "N actions changed = 3 \n",
      " <class 'int'>\n",
      "after iteration 13\n",
      "iter    0   |   diff: 0.30279   |   V(start): 6.974 \n",
      "N actions changed = 3 \n",
      " <class 'int'>\n",
      "after iteration 14\n",
      "iter    0   |   diff: 0.27251   |   V(start): 7.246 \n",
      "N actions changed = 3 \n",
      " <class 'int'>\n",
      "after iteration 15\n",
      "iter    0   |   diff: 0.24526   |   V(start): 7.492 \n",
      "N actions changed = 3 \n",
      " <class 'int'>\n",
      "after iteration 16\n",
      "iter    0   |   diff: 0.22073   |   V(start): 7.712 \n",
      "N actions changed = 3 \n",
      " <class 'int'>\n",
      "after iteration 17\n",
      "iter    0   |   diff: 0.19866   |   V(start): 7.911 \n",
      "N actions changed = 3 \n",
      " <class 'int'>\n",
      "after iteration 18\n",
      "iter    0   |   diff: 0.17879   |   V(start): 8.090 \n",
      "N actions changed = 3 \n",
      " <class 'int'>\n",
      "after iteration 19\n",
      "iter    0   |   diff: 0.16091   |   V(start): 8.251 \n",
      "N actions changed = 3 \n",
      " <class 'int'>\n",
      "after iteration 20\n",
      "iter    0   |   diff: 0.14482   |   V(start): 8.396 \n",
      "N actions changed = 3 \n",
      " <class 'int'>\n",
      "after iteration 21\n",
      "iter    0   |   diff: 0.13034   |   V(start): 8.526 \n",
      "N actions changed = 3 \n",
      " <class 'int'>\n",
      "after iteration 22\n",
      "iter    0   |   diff: 0.11731   |   V(start): 8.643 \n",
      "N actions changed = 3 \n",
      " <class 'int'>\n",
      "after iteration 23\n",
      "iter    0   |   diff: 0.10557   |   V(start): 8.749 \n",
      "N actions changed = 3 \n",
      " <class 'int'>\n",
      "after iteration 24\n",
      "iter    0   |   diff: 0.09502   |   V(start): 8.844 \n",
      "N actions changed = 3 \n",
      " <class 'int'>\n",
      "after iteration 25\n",
      "iter    0   |   diff: 0.08552   |   V(start): 8.929 \n",
      "N actions changed = 3 \n",
      " <class 'int'>\n",
      "after iteration 26\n",
      "iter    0   |   diff: 0.07696   |   V(start): 9.006 \n",
      "N actions changed = 3 \n",
      " <class 'int'>\n",
      "after iteration 27\n",
      "iter    0   |   diff: 0.06927   |   V(start): 9.076 \n",
      "N actions changed = 3 \n",
      " <class 'int'>\n",
      "after iteration 28\n",
      "iter    0   |   diff: 0.06234   |   V(start): 9.138 \n",
      "N actions changed = 3 \n",
      " <class 'int'>\n",
      "after iteration 29\n",
      "iter    0   |   diff: 0.05611   |   V(start): 9.194 \n",
      "N actions changed = 3 \n",
      " <class 'int'>\n",
      "after iteration 30\n",
      "iter    0   |   diff: 0.05050   |   V(start): 9.245 \n",
      "N actions changed = 3 \n",
      " <class 'int'>\n",
      "after iteration 31\n",
      "iter    0   |   diff: 0.04545   |   V(start): 9.290 \n",
      "N actions changed = 3 \n",
      " <class 'int'>\n",
      "after iteration 32\n",
      "iter    0   |   diff: 0.04090   |   V(start): 9.331 \n",
      "N actions changed = 3 \n",
      " <class 'int'>\n",
      "after iteration 33\n",
      "iter    0   |   diff: 0.03681   |   V(start): 9.368 \n",
      "N actions changed = 3 \n",
      " <class 'int'>\n",
      "after iteration 34\n",
      "iter    0   |   diff: 0.03313   |   V(start): 9.401 \n",
      "N actions changed = 3 \n",
      " <class 'int'>\n",
      "after iteration 35\n",
      "iter    0   |   diff: 0.02982   |   V(start): 9.431 \n",
      "N actions changed = 3 \n",
      " <class 'int'>\n",
      "after iteration 36\n",
      "iter    0   |   diff: 0.02684   |   V(start): 9.458 \n",
      "N actions changed = 3 \n",
      " <class 'int'>\n",
      "after iteration 37\n",
      "iter    0   |   diff: 0.02415   |   V(start): 9.482 \n",
      "N actions changed = 3 \n",
      " <class 'int'>\n",
      "after iteration 38\n",
      "iter    0   |   diff: 0.02174   |   V(start): 9.503 \n",
      "N actions changed = 3 \n",
      " <class 'int'>\n",
      "after iteration 39\n",
      "iter    0   |   diff: 0.01956   |   V(start): 9.523 \n",
      "N actions changed = 3 \n",
      " <class 'int'>\n",
      "after iteration 40\n",
      "iter    0   |   diff: 0.01761   |   V(start): 9.541 \n",
      "N actions changed = 3 \n",
      " <class 'int'>\n",
      "after iteration 41\n",
      "iter    0   |   diff: 0.01585   |   V(start): 9.556 \n",
      "N actions changed = 3 \n",
      " <class 'int'>\n",
      "after iteration 42\n",
      "iter    0   |   diff: 0.01426   |   V(start): 9.571 \n",
      "N actions changed = 3 \n",
      " <class 'int'>\n",
      "after iteration 43\n",
      "iter    0   |   diff: 0.01284   |   V(start): 9.584 \n",
      "N actions changed = 3 \n",
      " <class 'int'>\n",
      "after iteration 44\n",
      "iter    0   |   diff: 0.01155   |   V(start): 9.595 \n",
      "N actions changed = 3 \n",
      " <class 'int'>\n",
      "after iteration 45\n",
      "iter    0   |   diff: 0.01040   |   V(start): 9.605 \n",
      "N actions changed = 3 \n",
      " <class 'int'>\n",
      "after iteration 46\n",
      "iter    0   |   diff: 0.00936   |   V(start): 9.615 \n",
      "N actions changed = 3 \n",
      " <class 'int'>\n",
      "after iteration 47\n",
      "iter    0   |   diff: 0.00842   |   V(start): 9.623 \n",
      "N actions changed = 3 \n",
      " <class 'int'>\n",
      "after iteration 48\n",
      "iter    0   |   diff: 0.00758   |   V(start): 9.631 \n",
      "N actions changed = 3 \n",
      " <class 'int'>\n",
      "after iteration 49\n",
      "iter    0   |   diff: 0.00682   |   V(start): 9.638 \n",
      "N actions changed = 3 \n",
      " <class 'int'>\n",
      "after iteration 50\n",
      "iter    0   |   diff: 0.00614   |   V(start): 9.644 \n",
      "N actions changed = 3 \n",
      " <class 'int'>\n",
      "after iteration 51\n",
      "iter    0   |   diff: 0.00553   |   V(start): 9.649 \n",
      "N actions changed = 3 \n",
      " <class 'int'>\n",
      "after iteration 52\n",
      "iter    0   |   diff: 0.00497   |   V(start): 9.654 \n",
      "N actions changed = 3 \n",
      " <class 'int'>\n",
      "after iteration 53\n",
      "iter    0   |   diff: 0.00448   |   V(start): 9.659 \n",
      "N actions changed = 3 \n",
      " <class 'int'>\n",
      "after iteration 54\n",
      "iter    0   |   diff: 0.00403   |   V(start): 9.663 \n",
      "N actions changed = 3 \n",
      " <class 'int'>\n",
      "after iteration 55\n",
      "iter    0   |   diff: 0.00363   |   V(start): 9.666 \n",
      "N actions changed = 3 \n",
      " <class 'int'>\n",
      "after iteration 56\n",
      "iter    0   |   diff: 0.00326   |   V(start): 9.670 \n",
      "N actions changed = 3 \n",
      " <class 'int'>\n",
      "after iteration 57\n",
      "iter    0   |   diff: 0.00294   |   V(start): 9.673 \n",
      "N actions changed = 3 \n",
      " <class 'int'>\n",
      "after iteration 58\n",
      "iter    0   |   diff: 0.00264   |   V(start): 9.675 \n",
      "N actions changed = 3 \n",
      " <class 'int'>\n",
      "after iteration 59\n",
      "iter    0   |   diff: 0.00238   |   V(start): 9.678 \n",
      "N actions changed = 3 \n",
      " <class 'int'>\n",
      "after iteration 60\n",
      "iter    0   |   diff: 0.00214   |   V(start): 9.680 \n",
      "N actions changed = 3 \n",
      " <class 'int'>\n",
      "after iteration 61\n",
      "iter    0   |   diff: 0.00193   |   V(start): 9.682 \n",
      "N actions changed = 3 \n",
      " <class 'int'>\n",
      "after iteration 62\n",
      "iter    0   |   diff: 0.00173   |   V(start): 9.683 \n",
      "N actions changed = 3 \n",
      " <class 'int'>\n",
      "after iteration 63\n",
      "iter    0   |   diff: 0.00156   |   V(start): 9.685 \n",
      "N actions changed = 3 \n",
      " <class 'int'>\n",
      "after iteration 64\n",
      "iter    0   |   diff: 0.00140   |   V(start): 9.686 \n",
      "N actions changed = 3 \n",
      " <class 'int'>\n",
      "after iteration 65\n",
      "iter    0   |   diff: 0.00126   |   V(start): 9.688 \n",
      "N actions changed = 3 \n",
      " <class 'int'>\n",
      "after iteration 66\n",
      "iter    0   |   diff: 0.00114   |   V(start): 9.689 \n",
      "N actions changed = 3 \n",
      " <class 'int'>\n",
      "after iteration 67\n",
      "iter    0   |   diff: 0.00102   |   V(start): 9.690 \n",
      "N actions changed = 3 \n",
      " <class 'int'>\n",
      "after iteration 68\n",
      "iter    0   |   diff: 0.00092   |   V(start): 9.691 \n",
      "N actions changed = 3 \n",
      " <class 'int'>\n",
      "after iteration 69\n",
      "iter    0   |   diff: 0.00083   |   V(start): 9.692 \n",
      "N actions changed = 3 \n",
      " <class 'int'>\n",
      "after iteration 70\n",
      "iter    0   |   diff: 0.00075   |   V(start): 9.692 \n",
      "N actions changed = 3 \n",
      " <class 'int'>\n",
      "after iteration 71\n",
      "iter    0   |   diff: 0.00067   |   V(start): 9.693 \n",
      "N actions changed = 3 \n",
      " <class 'int'>\n",
      "after iteration 72\n",
      "iter    0   |   diff: 0.00060   |   V(start): 9.694 \n",
      "N actions changed = 3 \n",
      " <class 'int'>\n",
      "after iteration 73\n",
      "iter    0   |   diff: 0.00054   |   V(start): 9.694 \n",
      "N actions changed = 3 \n",
      " <class 'int'>\n",
      "after iteration 74\n",
      "iter    0   |   diff: 0.00049   |   V(start): 9.695 \n",
      "N actions changed = 3 \n",
      " <class 'int'>\n",
      "after iteration 75\n",
      "iter    0   |   diff: 0.00044   |   V(start): 9.695 \n",
      "N actions changed = 3 \n",
      " <class 'int'>\n",
      "after iteration 76\n",
      "iter    0   |   diff: 0.00040   |   V(start): 9.695 \n",
      "N actions changed = 3 \n",
      " <class 'int'>\n",
      "after iteration 77\n",
      "iter    0   |   diff: 0.00036   |   V(start): 9.696 \n",
      "N actions changed = 3 \n",
      " <class 'int'>\n",
      "after iteration 78\n",
      "iter    0   |   diff: 0.00032   |   V(start): 9.696 \n",
      "N actions changed = 3 \n",
      " <class 'int'>\n",
      "after iteration 79\n",
      "iter    0   |   diff: 0.00029   |   V(start): 9.696 \n",
      "N actions changed = 3 \n",
      " <class 'int'>\n",
      "after iteration 80\n",
      "iter    0   |   diff: 0.00026   |   V(start): 9.697 \n",
      "N actions changed = 3 \n",
      " <class 'int'>\n",
      "after iteration 81\n",
      "iter    0   |   diff: 0.00023   |   V(start): 9.697 \n",
      "N actions changed = 3 \n",
      " <class 'int'>\n",
      "after iteration 82\n",
      "iter    0   |   diff: 0.00021   |   V(start): 9.697 \n",
      "N actions changed = 3 \n",
      " <class 'int'>\n",
      "after iteration 83\n",
      "iter    0   |   diff: 0.00019   |   V(start): 9.697 \n",
      "N actions changed = 3 \n",
      " <class 'int'>\n",
      "after iteration 84\n",
      "iter    0   |   diff: 0.00017   |   V(start): 9.697 \n",
      "N actions changed = 3 \n",
      " <class 'int'>\n",
      "after iteration 85\n",
      "iter    0   |   diff: 0.00015   |   V(start): 9.698 \n",
      "N actions changed = 3 \n",
      " <class 'int'>\n",
      "after iteration 86\n",
      "iter    0   |   diff: 0.00014   |   V(start): 9.698 \n",
      "N actions changed = 3 \n",
      " <class 'int'>\n",
      "after iteration 87\n",
      "iter    0   |   diff: 0.00012   |   V(start): 9.698 \n",
      "N actions changed = 3 \n",
      " <class 'int'>\n",
      "after iteration 88\n",
      "iter    0   |   diff: 0.00011   |   V(start): 9.698 \n",
      "N actions changed = 3 \n",
      " <class 'int'>\n",
      "after iteration 89\n",
      "iter    0   |   diff: 0.00010   |   V(start): 9.698 \n",
      "N actions changed = 3 \n",
      " <class 'int'>\n",
      "after iteration 90\n",
      "iter    0   |   diff: 0.00009   |   V(start): 9.698 \n",
      "N actions changed = 3 \n",
      " <class 'int'>\n",
      "after iteration 91\n",
      "iter    0   |   diff: 0.00008   |   V(start): 9.698 \n",
      "N actions changed = 3 \n",
      " <class 'int'>\n",
      "after iteration 92\n",
      "iter    0   |   diff: 0.00007   |   V(start): 9.698 \n",
      "N actions changed = 3 \n",
      " <class 'int'>\n",
      "after iteration 93\n",
      "iter    0   |   diff: 0.00007   |   V(start): 9.698 \n",
      "N actions changed = 3 \n",
      " <class 'int'>\n",
      "after iteration 94\n",
      "iter    0   |   diff: 0.00006   |   V(start): 9.698 \n",
      "N actions changed = 3 \n",
      " <class 'int'>\n",
      "after iteration 95\n",
      "iter    0   |   diff: 0.00005   |   V(start): 9.699 \n",
      "N actions changed = 3 \n",
      " <class 'int'>\n",
      "after iteration 96\n",
      "iter    0   |   diff: 0.00005   |   V(start): 9.699 \n",
      "N actions changed = 3 \n",
      " <class 'int'>\n",
      "after iteration 97\n",
      "iter    0   |   diff: 0.00004   |   V(start): 9.699 \n",
      "N actions changed = 3 \n",
      " <class 'int'>\n",
      "after iteration 98\n",
      "iter    0   |   diff: 0.00004   |   V(start): 9.699 \n",
      "N actions changed = 3 \n",
      " <class 'int'>\n",
      "after iteration 99\n",
      "iter    0   |   diff: 0.00004   |   V(start): 9.699 \n",
      "N actions changed = 3 \n",
      " <class 'int'>\n"
     ]
    }
   ],
   "source": [
    "state_values = {s: 0 for s in mdp.get_all_states()}\n",
    "policy = [get_optimal_action(mdp, state_values, state, gamma)\n",
    "          for state in sorted(mdp.get_all_states())]\n",
    "\n",
    "for i in range(1, 100):\n",
    "    print(\"after iteration %i\" % i)\n",
    "    state_values = value_iteration(mdp, state_values, num_iter=1)\n",
    "\n",
    "    new_policy = [get_optimal_action(mdp, state_values, state, gamma)\n",
    "                  for state in sorted(mdp.get_all_states())]\n",
    "\n",
    "    n_changes = sum([1 if new == old else 0 for old, new in zip(policy, new_policy)])\n",
    "    print(\"N actions changed = {} \\n\".format(n_changes), type(n_changes))\n",
    "    policy = new_policy\n",
    "\n",
    "# please ignore iter 0 at each step"
   ]
  },
  {
   "cell_type": "markdown",
   "metadata": {},
   "source": [
    "### Bonus 2 - Policy Iteration (3+ points)\n",
    "\n",
    "Let's implement exact policy iteration (PI), which has the following pseudocode:\n",
    "\n",
    "---\n",
    "Initialize $\\pi_0$   `// random or fixed action`\n",
    "\n",
    "For $n=0, 1, 2, \\dots$\n",
    "- Compute the state-value function $V^{\\pi_{n}}$\n",
    "- Using $V^{\\pi_{n}}$, compute the state-action-value function $Q^{\\pi_{n}}$\n",
    "- Compute new policy $\\pi_{n+1}(s) = \\operatorname*{argmax}_a Q^{\\pi_{n}}(s,a)$\n",
    "---\n",
    "\n",
    "Unlike VI, policy iteration has to maintain a policy - chosen actions from all states - and estimate $V^{\\pi_{n}}$ based on this policy. It only changes policy once values converged.\n",
    "\n",
    "\n",
    "Below are a few helpers that you may or may not use in your implementation."
   ]
  },
  {
   "cell_type": "code",
   "execution_count": 12,
   "metadata": {
    "ExecuteTime": {
     "end_time": "2018-04-02T13:43:17.125320Z",
     "start_time": "2018-04-02T13:43:05.590Z"
    }
   },
   "outputs": [],
   "source": [
    "transition_probs = {\n",
    "    's0': {\n",
    "        'a0': {'s0': 0.5, 's2': 0.5},\n",
    "        'a1': {'s2': 1}\n",
    "    },\n",
    "    's1': {\n",
    "        'a0': {'s0': 0.7, 's1': 0.1, 's2': 0.2},\n",
    "        'a1': {'s1': 0.95, 's2': 0.05}\n",
    "    },\n",
    "    's2': {\n",
    "        'a0': {'s0': 0.4, 's1': 0.6},\n",
    "        'a1': {'s0': 0.3, 's1': 0.3, 's2': 0.4}\n",
    "    }\n",
    "}\n",
    "rewards = {\n",
    "    's1': {'a0': {'s0': +5}},\n",
    "    's2': {'a1': {'s0': -1}}\n",
    "}\n",
    "\n",
    "mdp = MDP(transition_probs, rewards, initial_state='s0')\n",
    "import numpy as np\n",
    "gamma = 0.9"
   ]
  },
  {
   "cell_type": "markdown",
   "metadata": {},
   "source": [
    "Let's write a function called `compute_vpi` that computes the state-value function $V^{\\pi}$ for an arbitrary policy $\\pi$.\n",
    "\n",
    "Unlike VI, this time you must find the exact solution, not just a single iteration.\n",
    "\n",
    "Recall that $V^{\\pi}$ satisfies the following linear equation:\n",
    "$$V^{\\pi}(s) = \\sum_{s'} P(s,\\pi(s),s')[ R(s,\\pi(s),s') + \\gamma V^{\\pi}(s')]$$\n",
    "\n",
    "You'll have to solve a linear system in your code. (Find an exact solution, e.g., with `np.linalg.solve`.)"
   ]
  },
  {
   "cell_type": "code",
   "execution_count": 13,
   "metadata": {},
   "outputs": [
    {
     "data": {
      "text/plain": [
       "(0.5, ('s0', 's1', 's2'))"
      ]
     },
     "execution_count": 13,
     "metadata": {},
     "output_type": "execute_result"
    }
   ],
   "source": [
    "mdp.get_transition_prob('s0', 'a0', 's0'), mdp.get_all_states()"
   ]
  },
  {
   "cell_type": "code",
   "execution_count": 26,
   "metadata": {
    "ExecuteTime": {
     "end_time": "2018-04-02T13:43:17.126518Z",
     "start_time": "2018-04-02T13:43:05.593Z"
    }
   },
   "outputs": [],
   "source": [
    "def compute_vpi(mdp, policy, gamma):\n",
    "    \"\"\"\n",
    "    Computes V^pi(s) FOR ALL STATES under given policy.\n",
    "    :param policy: a dict of currently chosen actions {s : a}\n",
    "    :returns: a dict {state : V^pi(state) for all states}\n",
    "    \"\"\"\n",
    "    b = np.array([sum([mdp.get_transition_prob(s, policy[s], s_prime)*mdp.get_reward(s, policy[s], s_prime) for s_prime in mdp.get_all_states()]) for s in mdp.get_all_states()])\n",
    "    a = np.array([[1 + gamma*mdp.get_transition_prob(s, policy[s], s) if s == k \n",
    "                   else -gamma*mdp.get_transition_prob(s, policy[s], k)\n",
    "                  for k in mdp.get_all_states()] for s in mdp.get_all_states()])\n",
    "    solution = np.linalg.solve(a, b)\n",
    "    vpi_dict = {s: vpi for s, vpi in zip(mdp.get_all_states(), solution)}\n",
    "    return vpi_dict"
   ]
  },
  {
   "cell_type": "code",
   "execution_count": 15,
   "metadata": {
    "ExecuteTime": {
     "end_time": "2018-04-02T13:43:17.127349Z",
     "start_time": "2018-04-02T13:43:05.597Z"
    }
   },
   "outputs": [
    {
     "name": "stdout",
     "output_type": "stream",
     "text": [
      "[[ 1.    -0.    -0.9  ]\n",
      " [-0.     1.855 -0.045]\n",
      " [-0.27  -0.27   1.36 ]]\n",
      "[ 0.   0.  -0.3]\n",
      "{'s0': -0.24314464156979634, 's1': -0.006553763923714188, 's2': -0.2701607128553293}\n"
     ]
    }
   ],
   "source": [
    "test_policy = {s: np.random.choice(\n",
    "    mdp.get_possible_actions(s)) for s in mdp.get_all_states()}\n",
    "new_vpi = compute_vpi(mdp, test_policy, gamma)\n",
    "\n",
    "print(new_vpi)\n",
    "\n",
    "assert type(\n",
    "    new_vpi) is dict, \"compute_vpi must return a dict {state : V^pi(state) for all states}\""
   ]
  },
  {
   "cell_type": "markdown",
   "metadata": {},
   "source": [
    "Once we've got new state values, it's time to update our policy."
   ]
  },
  {
   "cell_type": "code",
   "execution_count": 16,
   "metadata": {
    "ExecuteTime": {
     "end_time": "2018-04-02T13:43:17.128415Z",
     "start_time": "2018-04-02T13:43:05.601Z"
    }
   },
   "outputs": [],
   "source": [
    "def compute_new_policy(mdp, vpi, gamma):\n",
    "    \"\"\"\n",
    "    Computes new policy as argmax of state values\n",
    "    :param vpi: a dict {state : V^pi(state) for all states}\n",
    "    :returns: a dict {state : optimal action for all states}\n",
    "    \"\"\"\n",
    "    # get_action_value(mdp, state_values, state, action, gamma)\n",
    "    # mdp.get_possible_actions(state)[optimal_policy]\n",
    "    new_policy = {s: mdp.get_possible_actions(s)[np.argmax([get_action_value(mdp, vpi, s, a, gamma) for a in mdp.get_possible_actions(s)])] \n",
    "                  for s in vpi.keys()}\n",
    "    return new_policy"
   ]
  },
  {
   "cell_type": "code",
   "execution_count": 17,
   "metadata": {
    "ExecuteTime": {
     "end_time": "2018-04-02T13:43:17.129416Z",
     "start_time": "2018-04-02T13:43:05.604Z"
    }
   },
   "outputs": [
    {
     "name": "stdout",
     "output_type": "stream",
     "text": [
      "{'s0': 'a0', 's1': 'a0', 's2': 'a0'}\n"
     ]
    }
   ],
   "source": [
    "new_policy = compute_new_policy(mdp, new_vpi, gamma)\n",
    "\n",
    "print(new_policy)\n",
    "\n",
    "assert type(\n",
    "    new_policy) is dict, \"compute_new_policy must return a dict {state : optimal action for all states}\""
   ]
  },
  {
   "cell_type": "markdown",
   "metadata": {},
   "source": [
    "__Main loop__"
   ]
  },
  {
   "cell_type": "code",
   "execution_count": 28,
   "metadata": {
    "ExecuteTime": {
     "end_time": "2018-04-02T13:43:17.130183Z",
     "start_time": "2018-04-02T13:43:05.608Z"
    }
   },
   "outputs": [],
   "source": [
    "def policy_iteration(mdp, policy=None, gamma=0.9, num_iter=1000, min_difference=1e-5):\n",
    "    \"\"\" \n",
    "    Run the policy iteration loop for num_iter iterations or till difference between V(s) is below min_difference.\n",
    "    If policy is not given, initialize it at random.\n",
    "    \"\"\"\n",
    "    policy = {s: np.random.choice(mdp.get_possible_actions(s)) for s in mdp.get_all_states()}\n",
    "    \n",
    "    for i in range(num_iter):\n",
    "        v_pi = compute_vpi(mdp, policy, gamma)\n",
    "        new_policy = compute_new_policy(mdp, v_pi, gamma)\n",
    "        new_v_pi = compute_vpi(mdp, new_policy, gamma)\n",
    "        diff = max(abs(v_pi[s] - new_v_pi[s])\n",
    "               for s in mdp.get_all_states())\n",
    "        \n",
    "        print(\"iter %4i   |   diff: %6.5f   |   \" % (i, diff), end=\"\")\n",
    "        print('   '.join(\"V(%s) = %.3f\" % (s, v)\n",
    "                     for s, v in new_v_pi.items()), end='\\n\\n')\n",
    "        if diff < min_difference: break\n",
    "        policy = new_policy\n",
    "\n",
    "    return new_v_pi, policy"
   ]
  },
  {
   "cell_type": "markdown",
   "metadata": {},
   "source": [
    "__Your PI Results__"
   ]
  },
  {
   "cell_type": "code",
   "execution_count": 29,
   "metadata": {
    "ExecuteTime": {
     "end_time": "2018-04-02T13:43:17.130926Z",
     "start_time": "2018-04-02T13:43:05.612Z"
    }
   },
   "outputs": [
    {
     "name": "stdout",
     "output_type": "stream",
     "text": [
      "iter    0   |   diff: 4.06166   |   V(s0) = 0.766   V(s1) = 4.062   V(s2) = 2.469\n",
      "\n",
      "iter    1   |   diff: 0.96996   |   V(s0) = 1.736   V(s1) = 4.740   V(s2) = 3.185\n",
      "\n",
      "iter    2   |   diff: 0.00000   |   V(s0) = 1.736   V(s1) = 4.740   V(s2) = 3.185\n",
      "\n"
     ]
    },
    {
     "data": {
      "text/plain": [
       "''"
      ]
     },
     "execution_count": 29,
     "metadata": {},
     "output_type": "execute_result"
    }
   ],
   "source": [
    "# Measure agent's average reward\n",
    "# mdp = FrozenLakeEnv(slip_chance=0.1)\n",
    "state_values, _ = policy_iteration(mdp)\n",
    "\n",
    "\n",
    "'''\n",
    "total_rewards = []\n",
    "for game_i in range(1000):\n",
    "    s = mdp.reset()\n",
    "    rewards = []\n",
    "    for t in range(100):\n",
    "        s, r, done, _ = mdp.step(\n",
    "            get_optimal_action(mdp, state_values, s, gamma))\n",
    "        rewards.append(r)\n",
    "        if done:\n",
    "            break\n",
    "    total_rewards.append(np.sum(rewards))\n",
    "\n",
    "print(\"average reward: \", np.mean(total_rewards))\n",
    "assert(0.8 <= np.mean(total_rewards) <= 0.95)\n",
    "print(\"Well done!\")'''\n",
    "\"\""
   ]
  },
  {
   "cell_type": "code",
   "execution_count": null,
   "metadata": {},
   "outputs": [],
   "source": []
  },
  {
   "cell_type": "code",
   "execution_count": null,
   "metadata": {},
   "outputs": [],
   "source": []
  }
 ],
 "metadata": {
  "kernelspec": {
   "display_name": "Python 3",
   "language": "python",
   "name": "python3"
  },
  "language_info": {
   "codemirror_mode": {
    "name": "ipython",
    "version": 3
   },
   "file_extension": ".py",
   "mimetype": "text/x-python",
   "name": "python",
   "nbconvert_exporter": "python",
   "pygments_lexer": "ipython3",
   "version": "3.6.5"
  },
  "toc": {
   "nav_menu": {},
   "number_sections": true,
   "sideBar": true,
   "skip_h1_title": false,
   "title_cell": "Table of Contents",
   "title_sidebar": "Contents",
   "toc_cell": false,
   "toc_position": {},
   "toc_section_display": true,
   "toc_window_display": false
  },
  "varInspector": {
   "cols": {
    "lenName": 16,
    "lenType": 16,
    "lenVar": 40
   },
   "kernels_config": {
    "python": {
     "delete_cmd_postfix": "",
     "delete_cmd_prefix": "del ",
     "library": "var_list.py",
     "varRefreshCmd": "print(var_dic_list())"
    },
    "r": {
     "delete_cmd_postfix": ") ",
     "delete_cmd_prefix": "rm(",
     "library": "var_list.r",
     "varRefreshCmd": "cat(var_dic_list()) "
    }
   },
   "types_to_exclude": [
    "module",
    "function",
    "builtin_function_or_method",
    "instance",
    "_Feature"
   ],
   "window_display": false
  }
 },
 "nbformat": 4,
 "nbformat_minor": 2
}
