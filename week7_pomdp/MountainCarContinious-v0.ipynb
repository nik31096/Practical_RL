{
 "cells": [
  {
   "cell_type": "markdown",
   "metadata": {},
   "source": [
    "### Actor-Critic for MountainCar-v0"
   ]
  },
  {
   "cell_type": "code",
   "execution_count": null,
   "metadata": {},
   "outputs": [],
   "source": [
    "#!/usr/bin/env python\n",
    "# coding: utf-8\n",
    "\n",
    "# ### Actor-Critic for MountainCar-v0\n",
    "import gym\n",
    "import numpy as np\n",
    "import torch\n",
    "import torch.nn as nn\n",
    "import torch.nn.functional as F\n",
    "from matplotlib import pyplot as plt\n",
    "from IPython.display import clear_output\n",
    "\n",
    "import sklearn.pipeline\n",
    "import sklearn.preprocessing\n",
    "from sklearn.kernel_approximation import RBFSampler"
   ]
  },
  {
   "cell_type": "code",
   "execution_count": null,
   "metadata": {},
   "outputs": [],
   "source": [
    "env = gym.make(\"MountainCar-v0\")\n",
    "s = env.reset()\n",
    "\n",
    "obs_shape = env.observation_space.shape\n",
    "n_actions = env.action_space.n"
   ]
  },
  {
   "cell_type": "code",
   "execution_count": null,
   "metadata": {},
   "outputs": [],
   "source": [
    "# Feature Preprocessing: Normalize to zero mean and unit variance\n",
    "# We use a few samples from the observation space to do this\n",
    "observation_examples = np.array([env.observation_space.sample() for x in range(10000)])\n",
    "scaler = sklearn.preprocessing.StandardScaler()\n",
    "scaler.fit(observation_examples)\n",
    "\n",
    "# Used to converte a state to a featurizes represenation.\n",
    "# We use RBF kernels with different variances to cover different parts of the space\n",
    "featurizer = sklearn.pipeline.FeatureUnion([\n",
    "        (\"rbf1\", RBFSampler(gamma=5.0, n_components=100)),\n",
    "        (\"rbf2\", RBFSampler(gamma=2.0, n_components=100)),\n",
    "        (\"rbf3\", RBFSampler(gamma=1.0, n_components=100)),\n",
    "        (\"rbf4\", RBFSampler(gamma=0.5, n_components=100))\n",
    "        ])\n",
    "featurizer.fit(scaler.transform(observation_examples))"
   ]
  },
  {
   "cell_type": "code",
   "execution_count": null,
   "metadata": {},
   "outputs": [],
   "source": [
    "def featurize_state(state):\n",
    "    \"\"\"\n",
    "    Returns the featurized representation for a state.\n",
    "    \"\"\"\n",
    "    scaled = scaler.transform([state])\n",
    "    featurized = featurizer.transform(scaled)\n",
    "    return featurized[0]\n",
    "\n",
    "\n",
    "featured_shape = featurize_state(s).shape[0]"
   ]
  },
  {
   "cell_type": "code",
   "execution_count": null,
   "metadata": {},
   "outputs": [],
   "source": [
    "class Network(nn.Module):\n",
    "    def __init__(self):\n",
    "        super(Network, self).__init__()\n",
    "        self.dense1 = nn.Linear(featured_shape, 200)\n",
    "        self.dense2 = nn.Linear(200, n_actions)\n",
    "        self.dense3 = nn.Linear(200, 1)\n",
    "\n",
    "    def forward(self, x):\n",
    "        x = torch.FloatTensor(featurize_state(x))\n",
    "        x = self.dense1(x)\n",
    "        x = F.relu(x)\n",
    "        logits = self.dense2(x)\n",
    "        values = self.dense3(x)\n",
    "\n",
    "        return logits, values"
   ]
  },
  {
   "cell_type": "code",
   "execution_count": null,
   "metadata": {},
   "outputs": [],
   "source": [
    "agent = Network()"
   ]
  },
  {
   "cell_type": "code",
   "execution_count": null,
   "metadata": {},
   "outputs": [],
   "source": [
    "def where(cond, x1, x2):\n",
    "    return (1 - cond)*x1 + cond*x2"
   ]
  },
  {
   "cell_type": "code",
   "execution_count": 1,
   "metadata": {},
   "outputs": [],
   "source": [
    "gamma = 0.99\n",
    "opt = torch.optim.Adam(agent.parameters(), lr=1e-4)\n",
    "rewards = []\n",
    "actorLoss = []\n",
    "criticLoss = []\n",
    "Entropy = []\n",
    "state = env.reset()\n",
    "for i_episode in range(100000):\n",
    "    logits, values = agent(state)\n",
    "    policy = F.softmax(logits)\n",
    "    log_policy = F.log_softmax(logits)\n",
    "    action = np.random.choice(n_actions, p=policy.data.numpy())\n",
    "    next_state, reward, done, _ = env.step(action)\n",
    "    reward = torch.FloatTensor([reward])\n",
    "\n",
    "    _, next_values = agent(next_state)\n",
    "    # actor\n",
    "    entropy = -torch.mean(policy * log_policy)\n",
    "    advantage = reward + gamma * next_values - torch.squeeze(values)\n",
    "    advantage = reward if not done else reward + gamma * next_values - torch.squeeze(values)\n",
    "    actor_loss = -0.01 * entropy - torch.mean(advantage.detach() * log_policy[action])\n",
    "    # critic\n",
    "    td_target = reward + gamma * next_values.detach() if not done else reward\n",
    "    critic_loss = torch.mean((td_target - values) ** 2)\n",
    "\n",
    "    rewards.append(reward)\n",
    "    loss = actor_loss + critic_loss\n",
    "    loss.backward()\n",
    "    opt.step()\n",
    "    opt.zero_grad()\n",
    "\n",
    "    if done:\n",
    "        state = env.reset()\n",
    "        continue\n",
    "    if i_episode % 1000 == 0:\n",
    "        clear_output(True)\n",
    "        actorLoss.append(actor_loss.data.numpy())\n",
    "        criticLoss.append(critic_loss.data.numpy())\n",
    "        Entropy.append(entropy.data.numpy())\n",
    "        print(\"episode: {}, reward: {}\".format(i_episode + 1, np.mean(rewards[-10:])))\n",
    "        print(\"Critic loss:\", criticLoss[-1], \"Actor loss:\", actorLoss[-1])\n",
    "        plt.subplot(131)\n",
    "        plt.plot(criticLoss)\n",
    "        plt.title(\"Critic loss\")\n",
    "        plt.subplot(132)\n",
    "        plt.plot(actorLoss)\n",
    "        plt.title(\"Actor loss\")\n",
    "        plt.subplot(133)\n",
    "        plt.plot(Entropy)\n",
    "        plt.title(\"Entropy\")\n",
    "        plt.show()"
   ]
  },
  {
   "cell_type": "markdown",
   "metadata": {},
   "source": [
    "### Actor-critic for MountainCarContinuous-v0"
   ]
  },
  {
   "cell_type": "markdown",
   "metadata": {},
   "source": [
    "### link on tensorflow implementation of A2C for MountainCarContinuous-v0\n",
    "https://github.com/dennybritz/reinforcement-learning/blob/master/PolicyGradient/Continuous%20MountainCar%20Actor%20Critic%20Solution.ipynb"
   ]
  },
  {
   "cell_type": "code",
   "execution_count": 2,
   "metadata": {},
   "outputs": [],
   "source": [
    "env = gym.make(\"MountainCarContinuous-v0\")\n",
    "s = env.reset()"
   ]
  },
  {
   "cell_type": "code",
   "execution_count": 3,
   "metadata": {},
   "outputs": [],
   "source": [
    "obs_shape = env.observation_space.shape\n",
    "action_shape = env.action_space.shape"
   ]
  },
  {
   "cell_type": "code",
   "execution_count": 5,
   "metadata": {},
   "outputs": [],
   "source": [
    "class PolicyNetwork(nn.Module):\n",
    "    def __init__(self):\n",
    "        super(PolicyNetwork, self).__init__()\n",
    "        self.dense1 = nn.Linear(obs_shape[0], 200) \n",
    "        self.dense2 = nn.Linear(200, 1)\n",
    "        self.dense3 = nn.Linear(200, 1)\n",
    "        \n",
    "        \n",
    "    def forward(self, x):\n",
    "        x = torch.tensor(x, dtype=torch.float32).to(device)\n",
    "        x = F.tanh(self.dense1(x))\n",
    "        self.mu = self.dense2(x)\n",
    "        self.sigma = self.dense3(x)\n",
    "        \n",
    "        self.mu = torch.squeeze(self.mu)\n",
    "        self.sigma = F.softplus(torch.squeeze(self.sigma)) + 1e-5\n",
    "        self.normal = torch.distributions.normal.Normal(self.mu, self.sigma)\n",
    "        actions = self.normal.sample(sample_shape=torch.Size(action_shape))\n",
    "        actions = torch.clamp(actions, env.action_space.low[0], env.action_space.high[0])\n",
    "        return actions\n",
    "    \n",
    "    def get_entropy(self):\n",
    "        return self.normal.entropy()\n",
    "    \n",
    "    def get_log_prob(self, action):\n",
    "        return self.normal.log_prob(action)"
   ]
  },
  {
   "cell_type": "code",
   "execution_count": 6,
   "metadata": {},
   "outputs": [],
   "source": [
    "class ValueNetwork(nn.Module):\n",
    "    def __init__(self):\n",
    "        super(ValueNetwork, self).__init__()\n",
    "        self.dense1 = nn.Linear(obs_shape[0], 200)\n",
    "        self.dense2 = nn.Linear(200, 1)\n",
    "        \n",
    "    def forward(self, x):\n",
    "        x = torch.tensor(x, dtype=torch.float32).to(device)\n",
    "        x = F.tanh(self.dense1(x))\n",
    "        v_s = self.dense2(x)\n",
    "        \n",
    "        return v_s"
   ]
  },
  {
   "cell_type": "code",
   "execution_count": 7,
   "metadata": {},
   "outputs": [
    {
     "data": {
      "text/plain": [
       "torch.Size([1])"
      ]
     },
     "execution_count": 7,
     "metadata": {},
     "output_type": "execute_result"
    }
   ],
   "source": [
    "policy_estimator = PolicyNetwork().to(device)\n",
    "policy_estimator([s]).shape"
   ]
  },
  {
   "cell_type": "code",
   "execution_count": 8,
   "metadata": {},
   "outputs": [
    {
     "data": {
      "text/plain": [
       "(1,)"
      ]
     },
     "execution_count": 8,
     "metadata": {},
     "output_type": "execute_result"
    }
   ],
   "source": [
    "env.action_space.sample().shape"
   ]
  },
  {
   "cell_type": "code",
   "execution_count": 9,
   "metadata": {},
   "outputs": [],
   "source": [
    "value_estimator = ValueNetwork().to(device)"
   ]
  },
  {
   "cell_type": "code",
   "execution_count": 10,
   "metadata": {},
   "outputs": [],
   "source": [
    "def generate_session(tmax=1000):\n",
    "    states, actions, rewards, dones, next_states = [], [], [], [], []\n",
    "    s = env.reset()\n",
    "    for i in range(tmax):\n",
    "        action = policy_estimator([s])\n",
    "        new_s, reward, done, info = env.step(action.cpu().data.numpy())\n",
    "        \n",
    "        if done:\n",
    "            break\n",
    "        \n",
    "        states.append(s)\n",
    "        actions.append(action)\n",
    "        rewards.append(reward)\n",
    "        dones.append(done)\n",
    "        next_states.append(new_s)\n",
    "        s = new_s\n",
    "        \n",
    "    return states, actions, rewards, dones, next_states"
   ]
  },
  {
   "cell_type": "code",
   "execution_count": 11,
   "metadata": {},
   "outputs": [],
   "source": [
    "states, actions, rewards, dones, next_states = generate_session()"
   ]
  },
  {
   "cell_type": "code",
   "execution_count": 12,
   "metadata": {},
   "outputs": [],
   "source": [
    "def compute_critic_loss(optimizer, states, rewards, next_states, gamma):\n",
    "    states = torch.tensor(states, dtype=torch.float32).to(device)\n",
    "    next_states = torch.tensor(next_states.astype('float'), dtype=torch.float32).to(device)\n",
    "    rewards = torch.tensor(rewards, dtype=torch.float32).to(device)\n",
    "    next_v_s = value_estimator(next_states).detach()\n",
    "    td_target = rewards + gamma*next_v_s\n",
    "    td_error = (td_target - value_estimator(states))**2\n",
    "    loss = torch.mean(td_error)\n",
    "    loss.backward()\n",
    "    \n",
    "    optimizer.step()\n",
    "    optimizer.zero_grad()\n",
    "    \n",
    "    return loss.cpu().data.numpy()"
   ]
  },
  {
   "cell_type": "code",
   "execution_count": 13,
   "metadata": {},
   "outputs": [],
   "source": [
    "def compute_actor_loss(optimizer, states, actions, rewards, next_states, gamma):\n",
    "    H = policy_estimator.get_entropy()\n",
    "    states = torch.tensor(states, dtype=torch.float32).to(device)\n",
    "    actions = torch.tensor(actions, dtype=torch.float32).to(device)\n",
    "    rewards = torch.tensor(rewards, dtype=torch.float32).to(device)\n",
    "    next_states = torch.tensor(next_states.astype('float'), dtype=torch.float32)\n",
    "    td_target = rewards + gamma*value_estimator(next_states)\n",
    "    td_error = td_target - value_estimator(states)\n",
    "    loss = -0.1*H - policy_estimator.get_log_prob(actions)*td_error.detach()\n",
    "    \n",
    "    loss.backward()\n",
    "    optimizer.step()\n",
    "    optimizer.zero_grad()\n",
    "    \n",
    "    return loss.cpu().data.numpy()"
   ]
  },
  {
   "cell_type": "code",
   "execution_count": 14,
   "metadata": {},
   "outputs": [],
   "source": [
    "def train(gamma=0.99, episodes=10, tmax=1000):\n",
    "    opt = torch.optim.Adam(list(policy_estimator.parameters()) + list(value_estimator.parameters()), lr=1e-3)\n",
    "    rewards = []\n",
    "    loss_values_L = []\n",
    "    loss_values_J = []\n",
    "    for i_episode in range(episodes):\n",
    "        state = env.reset()\n",
    "        episode_rewards = []\n",
    "        \n",
    "        for t in range(tmax):\n",
    "            \n",
    "            action = policy_estimator(state)\n",
    "            next_state, reward, done, _ = env.step(action)\n",
    "            \n",
    "            episode_rewards.append(reward)\n",
    "            \n",
    "            Ltd = compute_critic_loss(opt, state, reward, next_state, gamma)\n",
    "            \n",
    "            J = compute_actor_loss(opt, state, action, reward, next_state, gamma)\n",
    "            if t % 500 == 0:\n",
    "                loss_values_J.append(J)\n",
    "                loss_values_L.append(Ltd)\n",
    "            \n",
    "            if done:\n",
    "                break\n",
    "        \n",
    "        rewards.append(np.mean(np.array(episode_rewards)))\n",
    "        clear_output(True)\n",
    "        print(\"episode: {}, reward: {}\".format(i_episode + 1, np.mean(np.array(episode_rewards))))\n",
    "        print(loss_values_J[-1])\n",
    "        plt.subplot(121)\n",
    "        plt.plot(loss_values_L)\n",
    "        plt.title(\"Ltd loss\")\n",
    "        plt.subplot(122)\n",
    "        plt.plot(loss_values_J)\n",
    "        plt.title(\"J_hat loss\")\n",
    "        plt.show()\n",
    "        \n",
    "    return np.array(rewards)"
   ]
  },
  {
   "cell_type": "code",
   "execution_count": 19,
   "metadata": {},
   "outputs": [],
   "source": [
    "normal = torch.distributions.normal.Normal(0, 1)"
   ]
  },
  {
   "cell_type": "code",
   "execution_count": 20,
   "metadata": {},
   "outputs": [
    {
     "data": {
      "text/plain": [
       "tensor(1.4189)"
      ]
     },
     "execution_count": 20,
     "metadata": {},
     "output_type": "execute_result"
    }
   ],
   "source": [
    "normal.entropy()"
   ]
  },
  {
   "cell_type": "code",
   "execution_count": 15,
   "metadata": {},
   "outputs": [
    {
     "name": "stdout",
     "output_type": "stream",
     "text": [
      "episode: 10, reward: -0.0004209252504765729\n",
      "[-0.46652836]\n"
     ]
    },
    {
     "data": {
      "image/png": "[encoded data removed]",
      "text/plain": [
       "<Figure size 432x288 with 2 Axes>"
      ]
     },
     "metadata": {
      "needs_background": "light"
     },
     "output_type": "display_data"
    },
    {
     "data": {
      "text/plain": [
       "array([-3.51630868e-02, -1.68083060e-02, -7.01596445e-03, -2.37690489e-03,\n",
       "       -6.90292012e-04, -3.27295153e-04, -8.47560537e-05, -3.29564471e-04,\n",
       "       -2.02674452e-04, -4.20925250e-04])"
      ]
     },
     "execution_count": 15,
     "metadata": {},
     "output_type": "execute_result"
    }
   ],
   "source": [
    "train()"
   ]
  },
  {
   "cell_type": "code",
   "execution_count": 17,
   "metadata": {},
   "outputs": [],
   "source": [
    "state = env.reset()\n",
    "for t in range(1000):\n",
    "    action = policy_estimator(state).to('cpu')\n",
    "    next_state, reward, done, _ = env.step(action)\n",
    "    \n",
    "    state = next_state\n",
    "    env.render()\n",
    "    if done:\n",
    "        break\n",
    "        \n",
    "env.close()"
   ]
  },
  {
   "cell_type": "code",
   "execution_count": null,
   "metadata": {},
   "outputs": [],
   "source": []
  }
 ],
 "metadata": {
  "kernelspec": {
   "display_name": "Python 3",
   "language": "python",
   "name": "python3"
  },
  "language_info": {
   "codemirror_mode": {
    "name": "ipython",
    "version": 3
   },
   "file_extension": ".py",
   "mimetype": "text/x-python",
   "name": "python",
   "nbconvert_exporter": "python",
   "pygments_lexer": "ipython3",
   "version": "3.6.5"
  }
 },
 "nbformat": 4,
 "nbformat_minor": 2
}
