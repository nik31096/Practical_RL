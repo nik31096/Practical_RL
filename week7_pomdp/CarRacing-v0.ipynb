{
 "cells": [
  {
   "cell_type": "markdown",
   "metadata": {},
   "source": [
    "## Value-based methods\n",
    "### 1. DQN"
   ]
  },
  {
   "cell_type": "code",
   "execution_count": 25,
   "metadata": {},
   "outputs": [],
   "source": [
    "# discretizing actions\n",
    "a_high, a_low = env.action_space.high, env.action_space.low\n",
    "n_actions = np.array([a_low, np.array([0, 0.5, 0.5]), a_high])"
   ]
  },
  {
   "cell_type": "code",
   "execution_count": 26,
   "metadata": {},
   "outputs": [],
   "source": [
    "class Flatten(nn.Module):\n",
    "    def __init__(self):\n",
    "        super(Flatten, self).__init__()\n",
    "        \n",
    "    def forward(self, x):\n",
    "        return x.view(x.size(0), -1)"
   ]
  },
  {
   "cell_type": "code",
   "execution_count": 27,
   "metadata": {},
   "outputs": [],
   "source": [
    "class network(nn.Module):\n",
    "    def __init__(self):\n",
    "        super(network, self).__init__()\n",
    "        self.conv1 = nn.Conv2d(3, 16, kernel_size=(3, 3), stride=2)\n",
    "        self.conv2 = nn.Conv2d(16, 32, 3, 2)\n",
    "        self.conv3 = nn.Conv2d(32, 64, 3, 2)\n",
    "        self.conv4 = nn.Conv2d(64, 128, 3, 2) # (128, 5, 5)\n",
    "        self.flatten = Flatten()\n",
    "        self.dense1 = nn.Linear(128*5*5, 800)\n",
    "        self.dense2 = nn.Linear(800, n_actions.shape[0])\n",
    "        \n",
    "    def forward(self, x):\n",
    "        x = nn.ReLU()(self.conv1(x))\n",
    "        x = nn.ReLU()(self.conv2(x))\n",
    "        x = nn.ReLU()(self.conv3(x))\n",
    "        x = nn.ReLU()(self.conv4(x))\n",
    "        x = nn.Tanh(self.dense1(x))\n",
    "        x = self.dense2(x)\n",
    "        \n",
    "        return x"
   ]
  },
  {
   "cell_type": "code",
   "execution_count": 28,
   "metadata": {},
   "outputs": [],
   "source": [
    "agent = network()\n",
    "target_network = network()"
   ]
  },
  {
   "cell_type": "code",
   "execution_count": 42,
   "metadata": {},
   "outputs": [
    {
     "data": {
      "text/plain": [
       "torch.Size([4, 3])"
      ]
     },
     "execution_count": 42,
     "metadata": {},
     "output_type": "execute_result"
    }
   ],
   "source": [
    "actions = torch.tensor([[-1.,  0.,  0.], [1., 1., 1.], [0. , 0.5, 0.5], [-1.,  0.,  0.]])\n",
    "actions.shape"
   ]
  },
  {
   "cell_type": "code",
   "execution_count": 66,
   "metadata": {},
   "outputs": [],
   "source": [
    "def to_onehot(vectors):\n",
    "    vectors = vectors.data.numpy()\n",
    "    unique_vectors = np.unique(vectors, axis=0)\n",
    "    print(unique_vectors)\n",
    "    dict_unique_vectors = {i: vector for i, vector in enumerate(unique_vectors)}\n",
    "    N = unique_vectors.shape[0] # amount of vectors\n",
    "    print(N, vectors.shape[0])\n",
    "    onehots = np.zeros((vectors.shape[0], N))\n",
    "    for i, vector in enumerate(vectors):\n",
    "        index = [i for i, vector_ in dict_unique_vectors.items() if (vector_==vector).all() ]\n",
    "        print(index)\n",
    "        onehots[i][index] = 1\n",
    "        \n",
    "    return torch.tensor(onehots, dtype=torch.float32)"
   ]
  },
  {
   "cell_type": "code",
   "execution_count": null,
   "metadata": {},
   "outputs": [],
   "source": [
    "def compute_loss(states, actions, rewards, dones, next_states, eps=0.5):\n",
    "    states = torch.tensor(states, dtype=torch.float32)\n",
    "    actions = torch.tensor(actions, dtype=torch.float32)\n",
    "    next_states = torch.tensor(next_states, dtype=torch.float32)\n",
    "    rewards = torch.tensor(rewards, dtype=torch.float32)\n",
    "    dones = torch.tensor(dones)\n",
    "    \n",
    "    pred_qvalues = agent(states)\n",
    "    q_values_for_actions = torch.sum(pred_qvalues*to_onehot(actions), dim=0)\n",
    "    \n",
    "    next_pred_qvalues = target_network(next_states)"
   ]
  }
 ],
 "metadata": {
  "kernelspec": {
   "display_name": "Python 3",
   "language": "python",
   "name": "python3"
  },
  "language_info": {
   "codemirror_mode": {
    "name": "ipython",
    "version": 3
   },
   "file_extension": ".py",
   "mimetype": "text/x-python",
   "name": "python",
   "nbconvert_exporter": "python",
   "pygments_lexer": "ipython3",
   "version": "3.6.5"
  }
 },
 "nbformat": 4,
 "nbformat_minor": 2
}
